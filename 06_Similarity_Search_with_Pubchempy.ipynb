{
  "cells": [
    {
      "cell_type": "markdown",
      "metadata": {
        "id": "view-in-github",
        "colab_type": "text"
      },
      "source": [
        "<a href=\"https://colab.research.google.com/github/sofia-sunny/Short_Introductory_Tutorials/blob/main/06_Similarity_Search_with_Pubchempy.ipynb\" target=\"_parent\"><img src=\"https://colab.research.google.com/assets/colab-badge.svg\" alt=\"Open In Colab\"/></a>"
      ]
    },
    {
      "cell_type": "markdown",
      "source": [
        "## **Using pcp.get_compounds for Similarity Search**\n",
        "The function **pcp.get_compounds()** from the pubchempy library is useful in similarity searches by retrieving a reference compound from PubChem using a known identifier such as a name, SMILES, or CID (PubChem Compound ID). For example, pcp.get_compounds(2244, 'cid') fetches the aspirin compound using its CID. Once retrieved, we can extract the compound's SMILES and uconvert it into a RDKit mol object and molecular fingerprint. This fingerprint is then compared to those of other compounds using similarity metrics such as the Tanimoto coefficient, allowing us to find structurally similar molecules for applications in drug discovery and virtual screening.\n",
        "\n",
        "\n",
        "### Remember that the general syntax for **pcp.get_compounds()** is as follows:\n",
        "\n",
        "## pcp.get_compounds (identifier, namespace, kwargs)\n",
        "\n",
        "### **identifier:**\n",
        "This is the unique identifier used to search for compounds. It can be a name, CID (PubChem Compound Identifier), SMILES string, InChI, formula, or another identifier that uniquely specifies a compound.\n",
        "\n",
        "### **namespace:**\n",
        " This specifies the type of identifier being used. Common namespaces include:\n",
        "\n",
        "**'cid':** PubChem Compound Identifier (default)\n",
        "**'name':** Common name of the compound\n",
        "**'smiles**': SMILES string\n",
        "\n",
        "### **Example:**\n",
        "aspirin = pcp.get_compounds('aspirin', 'name')\n",
        "Here aspirin is the **identifier** and the name is the **namespace**\n",
        "\n",
        "### **kwargs**: These are additional keyword arguments that allow you to specify further details about the search. Commonly used keyword arguments include:\n",
        "* **searchtype:** Specifies the type of search to perform. For example, 'similarity' for similarity searches.\n",
        "\n",
        "* **Threshold:** Used with similarity searches to set the similarity threshold."
      ],
      "metadata": {
        "id": "RctaQp4GVk8_"
      }
    },
    {
      "cell_type": "code",
      "execution_count": 1,
      "metadata": {
        "colab": {
          "base_uri": "https://localhost:8080/"
        },
        "id": "x1uuQ2OGd1is",
        "outputId": "c9ca903e-a27c-45be-a8fc-6c49c4a37e38"
      },
      "outputs": [
        {
          "output_type": "stream",
          "name": "stdout",
          "text": [
            "Collecting rdkit\n",
            "  Downloading rdkit-2025.3.3-cp311-cp311-manylinux_2_28_x86_64.whl.metadata (4.0 kB)\n",
            "Requirement already satisfied: numpy in /usr/local/lib/python3.11/dist-packages (from rdkit) (2.0.2)\n",
            "Requirement already satisfied: Pillow in /usr/local/lib/python3.11/dist-packages (from rdkit) (11.2.1)\n",
            "Downloading rdkit-2025.3.3-cp311-cp311-manylinux_2_28_x86_64.whl (34.9 MB)\n",
            "\u001b[2K   \u001b[90m━━━━━━━━━━━━━━━━━━━━━━━━━━━━━━━━━━━━━━━━\u001b[0m \u001b[32m34.9/34.9 MB\u001b[0m \u001b[31m15.0 MB/s\u001b[0m eta \u001b[36m0:00:00\u001b[0m\n",
            "\u001b[?25hInstalling collected packages: rdkit\n",
            "Successfully installed rdkit-2025.3.3\n"
          ]
        }
      ],
      "source": [
        "!pip install rdkit"
      ]
    },
    {
      "cell_type": "code",
      "source": [
        "!pip install pubchempy"
      ],
      "metadata": {
        "colab": {
          "base_uri": "https://localhost:8080/"
        },
        "id": "eEcTorUSVS4S",
        "outputId": "70ccde2c-6a78-4622-efbe-1d552d362671"
      },
      "execution_count": 2,
      "outputs": [
        {
          "output_type": "stream",
          "name": "stdout",
          "text": [
            "Collecting pubchempy\n",
            "  Downloading PubChemPy-1.0.4.tar.gz (29 kB)\n",
            "  Preparing metadata (setup.py) ... \u001b[?25l\u001b[?25hdone\n",
            "Building wheels for collected packages: pubchempy\n",
            "  Building wheel for pubchempy (setup.py) ... \u001b[?25l\u001b[?25hdone\n",
            "  Created wheel for pubchempy: filename=PubChemPy-1.0.4-py3-none-any.whl size=13818 sha256=d5659a7ce5ab2f28cd9f2db30b07cb199fa7f9b161401d7a443da9208ea2163a\n",
            "  Stored in directory: /root/.cache/pip/wheels/8b/e3/6c/3385b2db08b0985a87f5b117f98d0cb61a3ae3ca3bcbbd8307\n",
            "Successfully built pubchempy\n",
            "Installing collected packages: pubchempy\n",
            "Successfully installed pubchempy-1.0.4\n"
          ]
        }
      ]
    },
    {
      "cell_type": "code",
      "execution_count": 14,
      "metadata": {
        "id": "56NsUpytiWqM"
      },
      "outputs": [],
      "source": [
        "# Importing necessary libraries\n",
        "from rdkit import Chem\n",
        "from rdkit.Chem.rdFingerprintGenerator import GetMorganGenerator\n",
        "from rdkit.Chem import DataStructs\n",
        "from rdkit.Chem import Draw\n",
        "from IPython.display import display"
      ]
    },
    {
      "cell_type": "code",
      "source": [
        "import pubchempy as pcp"
      ],
      "metadata": {
        "id": "izT4LVbIsgM6"
      },
      "execution_count": 4,
      "outputs": []
    },
    {
      "cell_type": "markdown",
      "source": [
        "### **Example:** Perform a similarity search using the CID of aspirin\n",
        "First we need to find the CID (PubChem Compound Identifier) of the aspirin using **pcp.get_compounds()**\n",
        "\n",
        "The **pcp.get_compounds()** function returns a list of **Compound objects**. If only one compound matches the query, you will still get a list with a single Compound object. Each Compound object contains various attributes describing the compound, such as molecular formula, molecular weight, IUPAC name, and more"
      ],
      "metadata": {
        "id": "6QrsISnMsiYC"
      }
    },
    {
      "cell_type": "code",
      "source": [
        "# Retrieve aspirin compound by name\n",
        "aspirin_compound = pcp.get_compounds('aspirin', 'name') # The list of compound objects associated with aspirin\n",
        "aspirin_cid = aspirin_compound[0].cid # The CID (PubChem Compound Identifier) of aspirin\n",
        "print(f\"Aspirin CID: {aspirin_cid}\")\n"
      ],
      "metadata": {
        "colab": {
          "base_uri": "https://localhost:8080/"
        },
        "id": "dCTovmi-VH0g",
        "outputId": "b65e9e36-025d-40a7-e70b-d2584e9e11a2"
      },
      "execution_count": 6,
      "outputs": [
        {
          "output_type": "stream",
          "name": "stdout",
          "text": [
            "Aspirin CID: 2244\n"
          ]
        }
      ]
    },
    {
      "cell_type": "markdown",
      "source": [
        "### **Find compounds similar to aspirin with at least 95% similarity**\n",
        "To find compounds similar to aspirin with at least 95% similarity we need to use  some **kwargs** to specify the **searchtype** (what we want to search?) and **Threshold** (the minimum desired value).\n",
        "\n",
        "**Using the general syntax for pcp.get_compounds():**\n",
        "\n",
        " pcp.get_compounds (identifier, namespace, kwargs)\n",
        "\n",
        "**aspirin_cid:**  This is the identifire that  hold the PubChem Compound Identifier (CID) for aspirin.\n",
        "\n",
        "**'cid'** This is the **namespace** that specifies that the search is being conducted using the CID of the compound.\n",
        "\n",
        "**searchtype='similarity':** This argument indicates that the search should find compounds similar to the one identified by aspirin_cid. The search type could be different (like 'substructure' or 'superstructure'), but here it's specifically for similarity.\n",
        "\n",
        "**Threshold=95:** This sets the similarity threshold to 95%. Only compounds that have a similarity score of 95% or higher to aspirin will be returned.\n"
      ],
      "metadata": {
        "id": "gnyZeOFtvZhz"
      }
    },
    {
      "cell_type": "code",
      "source": [
        "# Find compounds similar to aspirin with at least 95% similarity\n",
        "similar_compounds = pcp.get_compounds(aspirin_cid, 'cid', searchtype='similarity', Threshold=95)"
      ],
      "metadata": {
        "id": "RGUUJgLRwRax"
      },
      "execution_count": 7,
      "outputs": []
    },
    {
      "cell_type": "markdown",
      "source": [
        "This retrieves compounds from the PubChem database that are at least 95% similar to aspirin, based on their chemical structure.\n",
        "The resulting similar compounds are stored in the variable similar_compounds.\n"
      ],
      "metadata": {
        "id": "DiZohO0oy6_p"
      }
    },
    {
      "cell_type": "code",
      "source": [
        "# Print the first 5 similar compounds\n",
        "for compound in similar_compounds[:5]:\n",
        "  print(f\"CID: {compound.cid}, Name: {compound.iupac_name}, SMILES: {compound.isomeric_smiles}\")\n"
      ],
      "metadata": {
        "colab": {
          "base_uri": "https://localhost:8080/"
        },
        "id": "YOnwa0RjVa75",
        "outputId": "f946ea6e-03bd-49e8-9c0e-a97b8deec62a"
      },
      "execution_count": 8,
      "outputs": [
        {
          "output_type": "stream",
          "name": "stdout",
          "text": [
            "CID: 2244, Name: 2-acetyloxybenzoic acid, SMILES: CC(=O)OC1=CC=CC=C1C(=O)O\n",
            "CID: 5161, Name: 2-(2-hydroxybenzoyl)oxybenzoic acid, SMILES: C1=CC=C(C(=C1)C(=O)OC2=CC=CC=C2C(=O)O)O\n",
            "CID: 68484, Name: methyl 2-acetyloxybenzoate, SMILES: CC(=O)OC1=CC=CC=C1C(=O)OC\n",
            "CID: 10745, Name: 2-(2-acetyloxybenzoyl)oxybenzoic acid, SMILES: CC(=O)OC1=CC=CC=C1C(=O)OC2=CC=CC=C2C(=O)O\n",
            "CID: 3434975, Name: 2-acetyloxybenzoate, SMILES: CC(=O)OC1=CC=CC=C1C(=O)[O-]\n"
          ]
        }
      ]
    },
    {
      "cell_type": "code",
      "source": [
        "aspirin_mol = Chem.MolFromSmiles(aspirin_compound[0].isomeric_smiles)\n",
        "aspirin_mol"
      ],
      "metadata": {
        "colab": {
          "base_uri": "https://localhost:8080/",
          "height": 167
        },
        "id": "Dyr0PvrL3juj",
        "outputId": "7b2efc85-9a17-401a-a132-184354ac1d74"
      },
      "execution_count": 9,
      "outputs": [
        {
          "output_type": "execute_result",
          "data": {
            "text/plain": [
              "<rdkit.Chem.rdchem.Mol at 0x7dc236e62b20>"
            ],
            "image/png": "[encoded data removed]"
          },
          "metadata": {},
          "execution_count": 9
        }
      ]
    },
    {
      "cell_type": "markdown",
      "source": [
        "Display the five most similar compounds to Aspirin"
      ],
      "metadata": {
        "id": "T31a7zbh3dBM"
      }
    },
    {
      "cell_type": "code",
      "source": [
        "for compound in similar_compounds[:5]:\n",
        "  mol = Chem.MolFromSmiles(compound.isomeric_smiles)\n",
        "  display(mol)\n",
        "  print(f\"CID: {compound.cid}, Name: {compound.iupac_name}\")"
      ],
      "metadata": {
        "colab": {
          "base_uri": "https://localhost:8080/",
          "height": 854
        },
        "id": "dCmJxtcC3yW6",
        "outputId": "9d0a9a7c-2524-4176-d150-d19018c07c75"
      },
      "execution_count": 10,
      "outputs": [
        {
          "output_type": "display_data",
          "data": {
            "text/plain": [
              "<rdkit.Chem.rdchem.Mol at 0x7dc236e62c00>"
            ],
            "image/png": "[encoded data removed]"
          },
          "metadata": {}
        },
        {
          "output_type": "stream",
          "name": "stdout",
          "text": [
            "CID: 2244, Name: 2-acetyloxybenzoic acid\n"
          ]
        },
        {
          "output_type": "display_data",
          "data": {
            "text/plain": [
              "<rdkit.Chem.rdchem.Mol at 0x7dc236e62c70>"
            ],
            "image/png": "[encoded data removed]"
          },
          "metadata": {}
        },
        {
          "output_type": "stream",
          "name": "stdout",
          "text": [
            "CID: 5161, Name: 2-(2-hydroxybenzoyl)oxybenzoic acid\n"
          ]
        },
        {
          "output_type": "display_data",
          "data": {
            "text/plain": [
              "<rdkit.Chem.rdchem.Mol at 0x7dc236e62c00>"
            ],
            "image/png": "[encoded data removed]"
          },
          "metadata": {}
        },
        {
          "output_type": "stream",
          "name": "stdout",
          "text": [
            "CID: 68484, Name: methyl 2-acetyloxybenzoate\n"
          ]
        },
        {
          "output_type": "display_data",
          "data": {
            "text/plain": [
              "<rdkit.Chem.rdchem.Mol at 0x7dc236e62e30>"
            ],
            "image/png": "[encoded data removed]"
          },
          "metadata": {}
        },
        {
          "output_type": "stream",
          "name": "stdout",
          "text": [
            "CID: 10745, Name: 2-(2-acetyloxybenzoyl)oxybenzoic acid\n"
          ]
        },
        {
          "output_type": "display_data",
          "data": {
            "text/plain": [
              "<rdkit.Chem.rdchem.Mol at 0x7dc236e62d50>"
            ],
            "image/png": "[encoded data removed]"
          },
          "metadata": {}
        },
        {
          "output_type": "stream",
          "name": "stdout",
          "text": [
            "CID: 3434975, Name: 2-acetyloxybenzoate\n"
          ]
        }
      ]
    },
    {
      "cell_type": "markdown",
      "source": [
        "### **Retrieve the common name (synonyms) of a compound using its CID.**\n"
      ],
      "metadata": {
        "id": "Oiw2NoSEHFJh"
      }
    },
    {
      "cell_type": "code",
      "source": [
        "# Function to get common names using CID\n",
        "def get_common_name(cid):\n",
        "    # Retrieve the compound information using its CID\n",
        "    compound = pcp.Compound.from_cid(cid)\n",
        "\n",
        "    # Check if the compound has synonyms available\n",
        "    if compound.synonyms:\n",
        "        # Return the first two synonyms\n",
        "        return compound.synonyms[0:2]\n",
        "    else:\n",
        "        # Return None if no synonyms are available\n",
        "        return None\n"
      ],
      "metadata": {
        "id": "jlple9GLF71k"
      },
      "execution_count": 11,
      "outputs": []
    },
    {
      "cell_type": "markdown",
      "source": [
        "### **Example:**"
      ],
      "metadata": {
        "id": "MCzTANG_2-ZE"
      }
    },
    {
      "cell_type": "code",
      "source": [
        "# Example usage of above function to to get common names using CID\n",
        "cid = 2244\n",
        "common_names = get_common_name(cid)\n",
        "\n",
        "# Print the retrieved common names\n",
        "if common_names:\n",
        "    print(f\"Common names for CID {cid}: {common_names}\")\n",
        "else:\n",
        "    print(f\"No common names found for CID {cid}\")"
      ],
      "metadata": {
        "colab": {
          "base_uri": "https://localhost:8080/"
        },
        "id": "j2UXEhsP1Ndd",
        "outputId": "9f6634cd-c02e-4b29-b65e-2f164f94a564"
      },
      "execution_count": 12,
      "outputs": [
        {
          "output_type": "stream",
          "name": "stdout",
          "text": [
            "Common names for CID 2244: ['aspirin', 'ACETYLSALICYLIC ACID']\n"
          ]
        }
      ]
    },
    {
      "cell_type": "markdown",
      "source": [
        "### **Retrieve two common names of compunds that are at least 95% similar to aspirin**\n",
        "Use the **get_common_name function** to get two common names of the first five compounds in **similar_compounds** list\n"
      ],
      "metadata": {
        "id": "46oVlw1DF7EC"
      }
    },
    {
      "cell_type": "code",
      "source": [
        "for compound in similar_compounds[:5]:\n",
        "  cid = compound.cid\n",
        "  common_names = get_common_name(cid)\n",
        "  if common_names:\n",
        "    print(f\"Common names for CID {cid}: {common_names}\")"
      ],
      "metadata": {
        "colab": {
          "base_uri": "https://localhost:8080/"
        },
        "id": "nGBv8T-F1ak4",
        "outputId": "5676d118-f411-499f-faf3-5d1a3c5a8869"
      },
      "execution_count": 13,
      "outputs": [
        {
          "output_type": "stream",
          "name": "stdout",
          "text": [
            "Common names for CID 2244: ['aspirin', 'ACETYLSALICYLIC ACID']\n",
            "Common names for CID 5161: ['Salsalate', '2-Carboxyphenyl salicylate']\n",
            "Common names for CID 68484: ['Methyl 2-Acetoxybenzoate', 'Methyl O-acetylsalicylate']\n",
            "Common names for CID 10745: ['530-75-6', 'ACETYLSALICYLSALICYLIC ACID']\n",
            "Common names for CID 3434975: ['Acetylsalicylate', 'CHEBI:13719']\n"
          ]
        }
      ]
    },
    {
      "cell_type": "markdown",
      "source": [
        "### **Another Example:**\n",
        "### Getting the similarity score starting with the name of compounds.\n",
        "Create a function to retrieve canonical SMILES string using compound name\n"
      ],
      "metadata": {
        "id": "8wgWshl_3WRE"
      }
    },
    {
      "cell_type": "code",
      "source": [
        "def get_smiles(name):\n",
        "    compound = pcp.get_compounds(name, 'name')\n",
        "    if compound:\n",
        "        return compound[0].canonical_smiles\n",
        "    else:\n",
        "        return None"
      ],
      "metadata": {
        "id": "1uwoJhP16TPe"
      },
      "execution_count": 15,
      "outputs": []
    },
    {
      "cell_type": "markdown",
      "source": [
        "Create a function to calculate Tanimoto similarity between two molecules\n"
      ],
      "metadata": {
        "id": "WBPuTVRemgOH"
      }
    },
    {
      "cell_type": "code",
      "source": [
        "def calculate_tanimoto(smiles1, smiles2):\n",
        "    # Convert SMILES strings to RDKit molecule objects\n",
        "    mol1 = Chem.MolFromSmiles(smiles1)\n",
        "    mol2 = Chem.MolFromSmiles(smiles2)\n",
        "\n",
        "    # Create a Morgan fingerprint generator\n",
        "    morgan_gen = GetMorganGenerator(radius=2)\n",
        "\n",
        "    # Generate molecular fingerprints for both molecules\n",
        "    fp1 = morgan_gen.GetFingerprint(mol1)\n",
        "    fp2 = morgan_gen.GetFingerprint(mol2)\n",
        "\n",
        "    # Calculate the Tanimoto similarity between the fingerprints\n",
        "    similarity = DataStructs.TanimotoSimilarity(fp1, fp2)\n",
        "\n",
        "    return similarity"
      ],
      "metadata": {
        "id": "zMLcL14o6VjH"
      },
      "execution_count": 17,
      "outputs": []
    },
    {
      "cell_type": "markdown",
      "source": [
        "### **Examples:**\n",
        "Find similarity between acetaminophen and caffeine"
      ],
      "metadata": {
        "id": "b-YozU3p6e-v"
      }
    },
    {
      "cell_type": "code",
      "source": [
        "name_acetaminophen = \"acetaminophen\"\n",
        "name_caffeine = \"caffeine\"\n",
        "\n",
        "# Retrieve SMILES strings using compound names\n",
        "smiles_acetaminophen = get_smiles(name_acetaminophen)\n",
        "smiles_caffeine = get_smiles(name_caffeine)\n",
        "\n",
        "# Ensure that both SMILES strings were retrieved successfully\n",
        "if smiles_acetaminophen and smiles_caffeine:\n",
        "    # Calculate the Tanimoto similarity\n",
        "    tanimoto_similarity = calculate_tanimoto(smiles_acetaminophen, smiles_caffeine)\n",
        "\n",
        "    # Print the result\n",
        "    print(f\"Tanimoto similarity between acetaminophen and caffeine: {tanimoto_similarity:.2f}\")\n",
        "\n",
        "    # Convert SMILES to RDKit molecule objects\n",
        "    mol_acetaminophen = Chem.MolFromSmiles(smiles_acetaminophen)\n",
        "    mol_caffeine = Chem.MolFromSmiles(smiles_caffeine)\n",
        "\n",
        "    # Draw the structures\n",
        "    img = Draw.MolsToImage([mol_acetaminophen, mol_caffeine], legends=['Acetaminophen', 'Caffeine'])\n",
        "    display(img)\n",
        "else:\n",
        "    if not smiles_acetaminophen:\n",
        "        print(f\"Failed to retrieve SMILES for {name_acetaminophen}\")\n",
        "    if not smiles_caffeine:\n",
        "        print(f\"Failed to retrieve SMILES for {name_caffeine}\")\n"
      ],
      "metadata": {
        "colab": {
          "base_uri": "https://localhost:8080/",
          "height": 234
        },
        "id": "V38uzagwUoBN",
        "outputId": "8a322046-0457-41b2-8a18-562314833692"
      },
      "execution_count": 18,
      "outputs": [
        {
          "output_type": "stream",
          "name": "stdout",
          "text": [
            "Tanimoto similarity between acetaminophen and caffeine: 0.10\n"
          ]
        },
        {
          "output_type": "display_data",
          "data": {
            "text/plain": [
              "<PIL.Image.Image image mode=RGBA size=400x200>"
            ],
            "image/png": "[encoded data removed]"
          },
          "metadata": {}
        }
      ]
    },
    {
      "cell_type": "code",
      "source": [],
      "metadata": {
        "id": "xV4L8F7FWsNH"
      },
      "execution_count": null,
      "outputs": []
    }
  ],
  "metadata": {
    "colab": {
      "provenance": [],
      "authorship_tag": "ABX9TyPmXJHlubX4D751ATv8bHuB",
      "include_colab_link": true
    },
    "kernelspec": {
      "display_name": "Python 3",
      "name": "python3"
    },
    "language_info": {
      "name": "python"
    }
  },
  "nbformat": 4,
  "nbformat_minor": 0
}
{
  "nbformat": 4,
  "nbformat_minor": 0,
  "metadata": {
    "colab": {
      "provenance": [],
      "authorship_tag": "ABX9TyMU6r+eX2rSTBrgps/jCcXC",
      "include_colab_link": true
    },
    "kernelspec": {
      "name": "python3",
      "display_name": "Python 3"
    },
    "language_info": {
      "name": "python"
    }
  },
  "cells": [
    {
      "cell_type": "markdown",
      "metadata": {
        "id": "view-in-github",
        "colab_type": "text"
      },
      "source": [
        "<a href=\"https://colab.research.google.com/github/sofia-sunny/Short_Introductory_Tutorials/blob/main/05_Pubchem_Data_Retrieval.ipynb\" target=\"_parent\"><img src=\"https://colab.research.google.com/assets/colab-badge.svg\" alt=\"Open In Colab\"/></a>"
      ]
    },
    {
      "cell_type": "markdown",
      "source": [
        "## **Pubchem and Data Retrieval**\n",
        "**PubChem** is a comprehensive chemical database that contains information on millions of chemical compounds. Each compound entry includes details such as molecular structure, chemical identifiers (like SMILES, InChI), molecular weight, and chemical properties (e.g., logP, solubility).\n",
        "\n",
        "\n",
        "One way to interact with **PubChem** database is using a Python library that interacts with it to retrieve chemical information.This library is called **PubChemPy**. We will first install and then import it as pcp"
      ],
      "metadata": {
        "id": "_Xk0iz87EOVg"
      }
    },
    {
      "cell_type": "code",
      "source": [
        "# Install RDKit (if not already installed)\n",
        "!pip install rdkit"
      ],
      "metadata": {
        "colab": {
          "base_uri": "https://localhost:8080/"
        },
        "id": "zjks8c7Q1Qkg",
        "outputId": "e9fd63a7-203a-4330-ae04-b4e4a67bb735"
      },
      "execution_count": null,
      "outputs": [
        {
          "output_type": "stream",
          "name": "stdout",
          "text": [
            "Collecting rdkit\n",
            "  Downloading rdkit-2025.3.3-cp311-cp311-manylinux_2_28_x86_64.whl.metadata (4.0 kB)\n",
            "Requirement already satisfied: numpy in /usr/local/lib/python3.11/dist-packages (from rdkit) (2.0.2)\n",
            "Requirement already satisfied: Pillow in /usr/local/lib/python3.11/dist-packages (from rdkit) (11.2.1)\n",
            "Downloading rdkit-2025.3.3-cp311-cp311-manylinux_2_28_x86_64.whl (34.9 MB)\n",
            "\u001b[2K   \u001b[90m━━━━━━━━━━━━━━━━━━━━━━━━━━━━━━━━━━━━━━━━\u001b[0m \u001b[32m34.9/34.9 MB\u001b[0m \u001b[31m18.8 MB/s\u001b[0m eta \u001b[36m0:00:00\u001b[0m\n",
            "\u001b[?25hInstalling collected packages: rdkit\n",
            "Successfully installed rdkit-2025.3.3\n"
          ]
        }
      ]
    },
    {
      "cell_type": "code",
      "source": [
        "# Install and import pubchempy\n",
        "!pip install pubchempy\n",
        "import pubchempy as pcp"
      ],
      "metadata": {
        "id": "pyImRSQVgocf",
        "colab": {
          "base_uri": "https://localhost:8080/"
        },
        "outputId": "3a20cdb2-53b5-401c-b41c-520d91ee7116"
      },
      "execution_count": null,
      "outputs": [
        {
          "output_type": "stream",
          "name": "stdout",
          "text": [
            "Collecting pubchempy\n",
            "  Downloading PubChemPy-1.0.4.tar.gz (29 kB)\n",
            "  Preparing metadata (setup.py) ... \u001b[?25l\u001b[?25hdone\n",
            "Building wheels for collected packages: pubchempy\n",
            "  Building wheel for pubchempy (setup.py) ... \u001b[?25l\u001b[?25hdone\n",
            "  Created wheel for pubchempy: filename=PubChemPy-1.0.4-py3-none-any.whl size=13818 sha256=6148d649d973a1bc308cdf8eedab850ff5eede40dcdddb5d0ee353b036f4f093\n",
            "  Stored in directory: /root/.cache/pip/wheels/8b/e3/6c/3385b2db08b0985a87f5b117f98d0cb61a3ae3ca3bcbbd8307\n",
            "Successfully built pubchempy\n",
            "Installing collected packages: pubchempy\n",
            "Successfully installed pubchempy-1.0.4\n"
          ]
        }
      ]
    },
    {
      "cell_type": "markdown",
      "source": [
        "### **pcp.get_compounds() Function**\n",
        "This function is very useful for retrieving detailed chemical information for compounds of interest, making it a valuable tool in chemoinformatics.\n",
        "\n",
        "The **pcp.get_compounds** function allows you to fetch chemical data (like molecular weight, formula, etc.) from PubChem using an **identifier.** It’s a convenient way to query and programmatically work with chemical compound data.\n",
        "\n",
        "### It returns **a list of Compound objects** that match the search criteria"
      ],
      "metadata": {
        "id": "FbJl2bFBhuZ1"
      }
    },
    {
      "cell_type": "markdown",
      "source": [
        "### **Syntax:**\n",
        "The general syntax for pcp.get_compounds() is as follows:\n",
        "\n",
        "###**pcp.get_compounds**(identifier, namespace', **kwargs)\n",
        "\n",
        "### **identifier**:This is the unique identifier used to search for compounds. It can be a name, CID (PubChem Compound Identifier), SMILES string, InChI, formula, or another identifier that uniquely specifies a compound.\n",
        "\n",
        "### **namespace:**This specifies the type of identifier being used. Common namespaces include:\n",
        "\n",
        "* **'cid'**: PubChem Compound Identifier (default)\n",
        "* **'name'**: Common name of the compound\n",
        "* **'smiles'**: SMILES string\n",
        "* **'inchi'**: InChI string\n",
        "* **'formula'**: Molecular formula\n",
        "\n",
        "**Example:**\n",
        "aspirin = pcp.get_compounds('aspirin', 'name')\n",
        "Here aspirin is the identifier and the name is the namespace\n",
        "\n",
        "###**kwargs:** Additional arguments to customize the search or the data retrieved. These can include search options like searchtype for similarity searches or filters for property-based searches."
      ],
      "metadata": {
        "id": "4IRnV2up0Fxp"
      }
    },
    {
      "cell_type": "markdown",
      "source": [
        "### Using **pcp.get_compounds()** to get the SMILES of a compound from its **name**\n",
        "**get_compounds('aspirin', 'name')** returns a list of Compound objects that match the name aspirin."
      ],
      "metadata": {
        "id": "rDBCBr2EkAZZ"
      }
    },
    {
      "cell_type": "code",
      "source": [
        "# Use pubchempy to get the compound by name\n",
        "compound = pcp.get_compounds('aspirin', 'name')\n",
        "#The type of the compound that we get from the pcp.get_compounds\n",
        "# is actually a list.\n",
        "type(compound)"
      ],
      "metadata": {
        "colab": {
          "base_uri": "https://localhost:8080/"
        },
        "id": "Nl9KZjqQXZux",
        "outputId": "75e0ae70-59b5-4a09-c9f4-714ed1125613"
      },
      "execution_count": null,
      "outputs": [
        {
          "output_type": "execute_result",
          "data": {
            "text/plain": [
              "list"
            ]
          },
          "metadata": {},
          "execution_count": 3
        }
      ]
    },
    {
      "cell_type": "markdown",
      "source": [
        "We are interested in getting the first member of the list: **compound[0]**. This first item is an object of type Compound, which represents the most relevant match from PubChem.\n",
        "\n",
        "Get  the canonical SMILES of the first compound in the list"
      ],
      "metadata": {
        "id": "5689sQjPXofY"
      }
    },
    {
      "cell_type": "code",
      "source": [
        "aspirin_canonical_smiles = compound[0].canonical_smiles\n",
        "# Print the SMILES strings\n",
        "print(f\"The canonical SMILES of aspirin is: {aspirin_canonical_smiles}\")"
      ],
      "metadata": {
        "colab": {
          "base_uri": "https://localhost:8080/"
        },
        "id": "9nX0D7nvGkJk",
        "outputId": "04d7ee7a-7726-4c85-dd8b-a35fef0e1873"
      },
      "execution_count": null,
      "outputs": [
        {
          "output_type": "stream",
          "name": "stdout",
          "text": [
            "The canonical SMILES of aspirin is: CC(=O)OC1=CC=CC=C1C(=O)O\n"
          ]
        }
      ]
    },
    {
      "cell_type": "markdown",
      "source": [
        "### Another Example:\n",
        "Using **pcp.get_compounds()** to get the SMILES and name of a compound from its **CID**"
      ],
      "metadata": {
        "id": "DxBfWy-7m9N1"
      }
    },
    {
      "cell_type": "code",
      "source": [
        "compound = pcp.get_compounds('2244', 'cid')\n",
        "compound_smiles = compound[0].canonical_smiles\n",
        "print(f\"The canonical SMILES of the compound is: {compound_smiles}\")\n",
        "compound_name = compound[0].iupac_name\n",
        "print(f\"The name of the compound is: {compound_name}\")"
      ],
      "metadata": {
        "colab": {
          "base_uri": "https://localhost:8080/"
        },
        "id": "5he5lnXfnE9T",
        "outputId": "5d5392fb-0652-448c-a502-9ce09ae812d7"
      },
      "execution_count": null,
      "outputs": [
        {
          "output_type": "stream",
          "name": "stdout",
          "text": [
            "The canonical SMILES of the compound is: CC(=O)OC1=CC=CC=C1C(=O)O\n",
            "The name of the compound is: 2-acetyloxybenzoic acid\n"
          ]
        }
      ]
    },
    {
      "cell_type": "markdown",
      "source": [
        "### Using **pcp.get_compounds()** method to get the SMILES and name of a compound from its molecular **formula**"
      ],
      "metadata": {
        "id": "5daoBxknoJMi"
      }
    },
    {
      "cell_type": "code",
      "source": [
        "compound = pcp.get_compounds('C2H6O', 'formula')\n",
        "compound_smiles = compound[0].canonical_smiles\n",
        "print(f\"The canonical SMILES of the compound is: {compound_smiles}\")\n",
        "compound_name = compound[0].iupac_name\n",
        "print(f\"The name of the compound is: {compound_name}\")"
      ],
      "metadata": {
        "colab": {
          "base_uri": "https://localhost:8080/"
        },
        "id": "Rc5fAZISoJlx",
        "outputId": "1763a4bc-9af7-4f84-facb-a673117916a5"
      },
      "execution_count": null,
      "outputs": [
        {
          "output_type": "stream",
          "name": "stdout",
          "text": [
            "The canonical SMILES of the compound is: CCO\n",
            "The name of the compound is: ethanol\n"
          ]
        }
      ]
    },
    {
      "cell_type": "markdown",
      "source": [
        "### **From SMILES to name and other identifires:**"
      ],
      "metadata": {
        "id": "uIqo8sTEjqHh"
      }
    },
    {
      "cell_type": "code",
      "source": [
        "# SMILES string for a compound\n",
        "comp_smiles = \"CN1C=NC2=C1C(=O)N(C(=O)N2C)C\""
      ],
      "metadata": {
        "id": "Fyfk1Uv19VfV"
      },
      "execution_count": null,
      "outputs": []
    },
    {
      "cell_type": "code",
      "source": [
        "# First get the \"compound[0]\" using pcp.get_compounds method\n",
        "compound = pcp.get_compounds(comp_smiles, 'smiles')[0]"
      ],
      "metadata": {
        "id": "49NpvCY39C4I"
      },
      "execution_count": null,
      "outputs": []
    },
    {
      "cell_type": "code",
      "source": [
        "# Print compound information\n",
        "print(f\"Common Name: {compound.synonyms[0]}\")\n",
        "print(f\"IUPAC Name: {compound.iupac_name}\")\n",
        "print(f\"CID: {compound.cid}\")\n",
        "print(f\"Molecular Formula: {compound.molecular_formula}\")\n",
        "print(f\"Molecular Weight: {compound.molecular_weight}\")\n",
        "print(f\"Canonical SMILES: {compound.canonical_smiles}\")"
      ],
      "metadata": {
        "id": "sgq600WL9Cud",
        "colab": {
          "base_uri": "https://localhost:8080/"
        },
        "outputId": "4cb783d7-43e0-41e3-f2d1-18b08d4a9001"
      },
      "execution_count": null,
      "outputs": [
        {
          "output_type": "stream",
          "name": "stdout",
          "text": [
            "Common Name: caffeine\n",
            "IUPAC Name: 1,3,7-trimethylpurine-2,6-dione\n",
            "CID: 2519\n",
            "Molecular Formula: C8H10N4O2\n",
            "Molecular Weight: 194.19\n",
            "Canonical SMILES: CN1C=NC2=C1C(=O)N(C(=O)N2C)C\n"
          ]
        }
      ]
    },
    {
      "cell_type": "markdown",
      "source": [
        "### We can write a function to **get the SMILES from the name**\n"
      ],
      "metadata": {
        "id": "qTchBA2dDLsN"
      }
    },
    {
      "cell_type": "code",
      "source": [
        "# Function to get SMILES from a chemical name\n",
        "def get_smiles(chemical_name):\n",
        "    compound = pcp.get_compounds(chemical_name, 'name')[0]\n",
        "    smiles = compound.canonical_smiles\n",
        "    return smiles"
      ],
      "metadata": {
        "id": "K8HX1Wprg5kU"
      },
      "execution_count": null,
      "outputs": []
    },
    {
      "cell_type": "markdown",
      "source": [
        "### Example:"
      ],
      "metadata": {
        "id": "TvLH3Kc7bHyM"
      }
    },
    {
      "cell_type": "code",
      "source": [
        "# Example chemical name\n",
        "chemical_name = \"ethanol\"\n",
        "\n",
        "# Get SMILES\n",
        "smiles = get_smiles(chemical_name)\n",
        "\n",
        "# Print the results\n",
        "print(f\"Chemical Name: {chemical_name}\")\n",
        "print(f\"SMILES: {smiles}\")\n"
      ],
      "metadata": {
        "id": "VEUIiz2I8WFC",
        "colab": {
          "base_uri": "https://localhost:8080/"
        },
        "outputId": "a898ba10-2b94-47f6-c311-f39d0942ee86"
      },
      "execution_count": null,
      "outputs": [
        {
          "output_type": "stream",
          "name": "stdout",
          "text": [
            "Chemical Name: ethanol\n",
            "SMILES: CCO\n"
          ]
        }
      ]
    },
    {
      "cell_type": "markdown",
      "source": [
        "### Writing a Function to Return a List of SMILES from a list of Compounds\n",
        "\n",
        "Define a function called **get_smiles_list** that takes a **list of compound names** and returns a list of their corresponding SMILES strings **(smiles_list)**\n"
      ],
      "metadata": {
        "id": "byqVjQgT50zj"
      }
    },
    {
      "cell_type": "code",
      "source": [
        "# Define a function to get SMILES strings from a list of compound's names\n",
        "def get_smiles_list(compound_names):\n",
        "    smiles_list = []\n",
        "    for name in compound_names:\n",
        "        compounds = pcp.get_compounds(name, 'name')\n",
        "        if compounds: # This checks that the compound actually exists!\n",
        "            smiles = compounds[0].canonical_smiles\n",
        "            smiles_list.append(smiles)\n",
        "        else: # if the compunds doesn't exist\n",
        "            smiles_list.append(None)\n",
        "    return smiles_list"
      ],
      "metadata": {
        "id": "UHLpw-9M9KGz"
      },
      "execution_count": null,
      "outputs": []
    },
    {
      "cell_type": "markdown",
      "source": [
        "### Using the above function:"
      ],
      "metadata": {
        "id": "xGv7nSHEr3GX"
      }
    },
    {
      "cell_type": "code",
      "source": [
        "# Suppose we have the following list of compounds:\n",
        "compound_names = [\"water\", \"methane\", \"ethanol\", \"glucose\", \"caffeine\", \"acetone\", \"benzene\", \"ibuprofen\"]\n",
        "\n",
        "# # Example of using the above function to get the list of SMILES strings\n",
        "get_smiles_list(compound_names)"
      ],
      "metadata": {
        "id": "5d3e6FT98pRc",
        "colab": {
          "base_uri": "https://localhost:8080/"
        },
        "outputId": "5682f013-62d4-4f04-cf36-91a08a102e43"
      },
      "execution_count": null,
      "outputs": [
        {
          "output_type": "execute_result",
          "data": {
            "text/plain": [
              "['O',\n",
              " 'C',\n",
              " 'CCO',\n",
              " 'C(C1C(C(C(C(O1)O)O)O)O)O',\n",
              " 'CN1C=NC2=C1C(=O)N(C(=O)N2C)C',\n",
              " 'CC(=O)C',\n",
              " 'C1=CC=CC=C1',\n",
              " 'CC(C)CC1=CC=C(C=C1)C(C)C(=O)O']"
            ]
          },
          "metadata": {},
          "execution_count": 34
        }
      ]
    }
  ]
}
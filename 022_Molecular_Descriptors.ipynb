{
  "cells": [
    {
      "cell_type": "markdown",
      "metadata": {
        "id": "view-in-github",
        "colab_type": "text"
      },
      "source": [
        "<a href=\"https://colab.research.google.com/github/sofia-sunny/Introductory_Tutorials/blob/main/022_Molecular_Descriptors.ipynb\" target=\"_parent\"><img src=\"https://colab.research.google.com/assets/colab-badge.svg\" alt=\"Open In Colab\"/></a>"
      ]
    },
    {
      "cell_type": "markdown",
      "metadata": {
        "id": "5-L4iCWKjI2S"
      },
      "source": [
        "##**Molecular Descriptors**\n",
        "Molecular descriptors are **quantitative representations** of molecular properties that capture various aspects of chemical structures.Molecular descriptors are crucial for predicting **ADMET** (Absorption, Distribution, Metabolism, Excretion, and Toxicity) properties of compounds. The ADMET properties describe the pharmacokinetic profile of a drug, which is critical for determining its efficacy and safety in the body.\n",
        "\n",
        "### **Some common examples of molecular descriptors include:**\n",
        "\n",
        "*  **Molecular weight**, which is the sum of the atomic weights of all atoms in a molecule;\n",
        "\n",
        "* **LogP (octanol-water partition coefficient)**, a measure of a compound's **hydrophobicity**;\n",
        "\n",
        "* **Topological polar surface area (TPSA),**  Sometimes referred to simply as “polar surface area” (PSA) is a value that can be calculated for a molecule and provides an indication of the molecule's polarits;\n",
        "\n",
        "* **Number of hydrogen bond donors and acceptors** which count the respective functional groups capable of donating or accepting hydrogen bonds;\n",
        "\n",
        "* **Rotatable bond count,** which reflects the molecule's flexibility;\n",
        "\n",
        "* **Aromatic ring count,** which identifies the number of aromatic rings in the molecule\n",
        "\n"
      ]
    },
    {
      "cell_type": "markdown",
      "metadata": {
        "id": "XdYZQjApuu9f"
      },
      "source": [
        "### **Showing Molecular Properties for a Single Molecule**"
      ]
    },
    {
      "cell_type": "markdown",
      "metadata": {
        "id": "vbRSt-boMtBv"
      },
      "source": [
        "### Install RDKit (if you haven't already) in your Google Colab environment:\n"
      ]
    },
    {
      "cell_type": "code",
      "execution_count": null,
      "metadata": {
        "colab": {
          "base_uri": "https://localhost:8080/"
        },
        "id": "zjks8c7Q1Qkg",
        "outputId": "38b9803a-864a-40dc-e4d9-4d3cfe5b8462"
      },
      "outputs": [
        {
          "output_type": "stream",
          "name": "stdout",
          "text": [
            "Collecting rdkit\n",
            "  Downloading rdkit-2025.3.2-cp311-cp311-manylinux_2_28_x86_64.whl.metadata (4.0 kB)\n",
            "Requirement already satisfied: numpy in /usr/local/lib/python3.11/dist-packages (from rdkit) (2.0.2)\n",
            "Requirement already satisfied: Pillow in /usr/local/lib/python3.11/dist-packages (from rdkit) (11.2.1)\n",
            "Downloading rdkit-2025.3.2-cp311-cp311-manylinux_2_28_x86_64.whl (35.2 MB)\n",
            "\u001b[2K   \u001b[90m━━━━━━━━━━━━━━━━━━━━━━━━━━━━━━━━━━━━━━━━\u001b[0m \u001b[32m35.2/35.2 MB\u001b[0m \u001b[31m16.4 MB/s\u001b[0m eta \u001b[36m0:00:00\u001b[0m\n",
            "\u001b[?25hInstalling collected packages: rdkit\n",
            "Successfully installed rdkit-2025.3.2\n"
          ]
        }
      ],
      "source": [
        "# Install RDKit\n",
        "!pip install rdkit"
      ]
    },
    {
      "cell_type": "code",
      "source": [
        "from rdkit import Chem #RDKit's core chemistry module for working with molecules."
      ],
      "metadata": {
        "id": "4hvBNgO-7ped"
      },
      "execution_count": null,
      "outputs": []
    },
    {
      "cell_type": "markdown",
      "source": [
        "The **Descriptors** module from **rdkit.Chem** provides a collection of predefined functions for calculating a wide range of molecular descriptors."
      ],
      "metadata": {
        "id": "PGEA6x-M7Q0e"
      }
    },
    {
      "cell_type": "code",
      "source": [
        "from rdkit.Chem import Descriptors #RDKit's module for calculating molecular descriptors"
      ],
      "metadata": {
        "id": "MWPpjXwcdE1d"
      },
      "execution_count": null,
      "outputs": []
    },
    {
      "cell_type": "markdown",
      "metadata": {
        "id": "f8HXy-X6gobB"
      },
      "source": [
        "### **For Ethanol**"
      ]
    },
    {
      "cell_type": "code",
      "execution_count": null,
      "metadata": {
        "id": "5w-y1fQSarEf",
        "colab": {
          "base_uri": "https://localhost:8080/",
          "height": 167
        },
        "outputId": "b9bdb7d0-5df9-4f68-a371-122919ea6b2b"
      },
      "outputs": [
        {
          "output_type": "execute_result",
          "data": {
            "text/plain": [
              "<rdkit.Chem.rdchem.Mol at 0x7ab9ecb9f990>"
            ],
            "image/png": "[encoded data removed]"
          },
          "metadata": {},
          "execution_count": 6
        }
      ],
      "source": [
        "smiles = \"CCO\"  # Ethanol\n",
        "# Convert the SMILES string to a mol oblect\n",
        "mol = Chem.MolFromSmiles(smiles)\n",
        "mol"
      ]
    },
    {
      "cell_type": "code",
      "execution_count": null,
      "metadata": {
        "colab": {
          "base_uri": "https://localhost:8080/"
        },
        "id": "Js4qhdvk9eOj",
        "outputId": "95bf72cf-5962-4da9-c825-e026114dfa27"
      },
      "outputs": [
        {
          "output_type": "stream",
          "name": "stdout",
          "text": [
            "Molecular Weight for ethanol: 46.07\n"
          ]
        }
      ],
      "source": [
        "# Calculate and display molecular weight\n",
        "mol_weight = Descriptors.MolWt(mol)\n",
        "print(f\"Molecular Weight for ethanol: {mol_weight:.2f}\")"
      ]
    },
    {
      "cell_type": "markdown",
      "metadata": {
        "id": "YEjd_j1IrTiH"
      },
      "source": [
        "### **Showing some  molecular descriptors for ethanol**\n"
      ]
    },
    {
      "cell_type": "code",
      "execution_count": null,
      "metadata": {
        "id": "t4IyYSKtrabT"
      },
      "outputs": [],
      "source": [
        "# Compute common molecular descriptors\n",
        "molecular_weight = Descriptors.MolWt(mol) # The molecular weight\n",
        "logp = Descriptors.MolLogP(mol) # The octanol-water partition coefficient (hydrophobicity)\n",
        "num_h_donors = Descriptors.NumHDonors(mol) # The number of hydrogen bond donors\n",
        "num_h_acceptors = Descriptors.NumHAcceptors(mol) # The number of hydrogen bond acceptors\n",
        "num_rotatable_bonds = Descriptors.NumRotatableBonds(mol) # The number of rotatable bonds\n",
        "tpsa = Descriptors.TPSA(mol) # The topological polar surface area (a measure of polarity)"
      ]
    },
    {
      "cell_type": "code",
      "execution_count": null,
      "metadata": {
        "colab": {
          "base_uri": "https://localhost:8080/"
        },
        "id": "TFqqUUgfALIW",
        "outputId": "731c4e4e-72f5-46ce-c931-5977a61b8efe"
      },
      "outputs": [
        {
          "output_type": "stream",
          "name": "stdout",
          "text": [
            "For Ethanol: \n",
            "Molecular Weight: 46.069\n",
            "LogP: -0.0014000000000000123\n",
            "Number of Hydrogen Donors: 1\n",
            "Number of Hydrogen Acceptors: 1\n",
            "Number of Rotatable Bonds: 0\n",
            "Topological Polar Surface Area (TPSA): 20.23\n"
          ]
        }
      ],
      "source": [
        "# Print the computed descriptors for Ethanol\n",
        "print(\"For Ethanol: \")\n",
        "print(f\"Molecular Weight: {molecular_weight}\")\n",
        "print(f\"LogP: {logp}\")\n",
        "print(f\"Number of Hydrogen Donors: {num_h_donors}\")\n",
        "print(f\"Number of Hydrogen Acceptors: {num_h_acceptors}\")\n",
        "print(f\"Number of Rotatable Bonds: {num_rotatable_bonds}\")\n",
        "print(f\"Topological Polar Surface Area (TPSA): {tpsa}\")"
      ]
    },
    {
      "cell_type": "markdown",
      "metadata": {
        "id": "qZ5NyHR-gZlq"
      },
      "source": [
        "### **For Aspirin**"
      ]
    },
    {
      "cell_type": "code",
      "execution_count": null,
      "metadata": {
        "id": "mXYgeoM3NFCg"
      },
      "outputs": [],
      "source": [
        "# Define the SMILES string for aspirin\n",
        "aspirin_smiles = 'CC(=O)OC1=CC=CC=C1C(O)=O'"
      ]
    },
    {
      "cell_type": "code",
      "source": [
        "# Convert the SMILES string to an RDKit molecule object\n",
        "mol = Chem.MolFromSmiles(aspirin_smiles)\n",
        "mol"
      ],
      "metadata": {
        "colab": {
          "base_uri": "https://localhost:8080/",
          "height": 167
        },
        "id": "1qFhx88xBlm7",
        "outputId": "2dacb06d-7119-43e4-cad3-69e285c00550"
      },
      "execution_count": null,
      "outputs": [
        {
          "output_type": "execute_result",
          "data": {
            "text/plain": [
              "<rdkit.Chem.rdchem.Mol at 0x7ab9e71558c0>"
            ],
            "image/png": "[encoded data removed]"
          },
          "metadata": {},
          "execution_count": 11
        }
      ]
    },
    {
      "cell_type": "code",
      "source": [
        "logp = Descriptors.MolLogP(mol) # octanol-water partition coefficient (hydrophobicity)\n",
        "logp"
      ],
      "metadata": {
        "colab": {
          "base_uri": "https://localhost:8080/"
        },
        "id": "ALrcKYTkys_u",
        "outputId": "edcca1f2-2366-4296-8473-40bafb2af41d"
      },
      "execution_count": null,
      "outputs": [
        {
          "output_type": "execute_result",
          "data": {
            "text/plain": [
              "1.3101"
            ]
          },
          "metadata": {},
          "execution_count": 12
        }
      ]
    },
    {
      "cell_type": "code",
      "execution_count": null,
      "metadata": {
        "id": "Ux0tjQBfg2ak"
      },
      "outputs": [],
      "source": [
        "# Compute common molecular descriptors for Aspirin\n",
        "molecular_weight = Descriptors.MolWt(mol) # molecular weight\n",
        "logp = Descriptors.MolLogP(mol) # octanol-water partition coefficient (hydrophobicity)\n",
        "num_h_donors = Descriptors.NumHDonors(mol) # number of hydrogen bond donors\n",
        "num_h_acceptors = Descriptors.NumHAcceptors(mol) # number of hydrogen bond acceptors\n",
        "num_rotatable_bonds = Descriptors.NumRotatableBonds(mol)  # number of rotatable bonds\n",
        "tpsa = Descriptors.TPSA(mol)  # topological polar surface area (indication of polarity)"
      ]
    },
    {
      "cell_type": "code",
      "execution_count": null,
      "metadata": {
        "colab": {
          "base_uri": "https://localhost:8080/"
        },
        "id": "xyjufWG-g3dV",
        "outputId": "a987a6fa-0a91-49d4-c171-03d6a60e827f"
      },
      "outputs": [
        {
          "output_type": "stream",
          "name": "stdout",
          "text": [
            "For Aspirin: \n",
            "Molecular Weight: 180.15899999999996\n",
            "LogP: 1.3101\n",
            "Number of Hydrogen Donors: 1\n",
            "Number of Hydrogen Acceptors: 3\n",
            "Number of Rotatable Bonds: 2\n",
            "Topological Polar Surface Area (TPSA): 63.6\n"
          ]
        }
      ],
      "source": [
        "# Print the computed descriptors for Aspirin\n",
        "print(\"For Aspirin: \")\n",
        "print(f\"Molecular Weight: {molecular_weight}\")\n",
        "print(f\"LogP: {logp}\")\n",
        "print(f\"Number of Hydrogen Donors: {num_h_donors}\")\n",
        "print(f\"Number of Hydrogen Acceptors: {num_h_acceptors}\")\n",
        "print(f\"Number of Rotatable Bonds: {num_rotatable_bonds}\")\n",
        "print(f\"Topological Polar Surface Area (TPSA): {tpsa}\")"
      ]
    },
    {
      "cell_type": "markdown",
      "metadata": {
        "id": "jduthFgIu_Rz"
      },
      "source": [
        "### **Showing Molecular descriptors for Multiple Molecules**\n"
      ]
    },
    {
      "cell_type": "code",
      "execution_count": null,
      "metadata": {
        "colab": {
          "base_uri": "https://localhost:8080/",
          "height": 522
        },
        "id": "jW_8DhJ5vBlD",
        "outputId": "a8b8ca6b-686f-488b-cd9f-3e688d5f175c"
      },
      "outputs": [
        {
          "output_type": "display_data",
          "data": {
            "text/plain": [
              "<rdkit.Chem.rdchem.Mol at 0x7ab9e7156f80>"
            ],
            "image/png": "[encoded data removed]"
          },
          "metadata": {}
        },
        {
          "output_type": "stream",
          "name": "stdout",
          "text": [
            "SMILES: CCO | Molecular Weight: 46.07 | Number of Atoms: 3\n"
          ]
        },
        {
          "output_type": "display_data",
          "data": {
            "text/plain": [
              "<rdkit.Chem.rdchem.Mol at 0x7ab9e7157e60>"
            ],
            "image/png": "[encoded data removed]"
          },
          "metadata": {}
        },
        {
          "output_type": "stream",
          "name": "stdout",
          "text": [
            "SMILES: CC(=O)O | Molecular Weight: 60.05 | Number of Atoms: 4\n"
          ]
        },
        {
          "output_type": "display_data",
          "data": {
            "text/plain": [
              "<rdkit.Chem.rdchem.Mol at 0x7ab9e7157ed0>"
            ],
            "image/png": "[encoded data removed]"
          },
          "metadata": {}
        },
        {
          "output_type": "stream",
          "name": "stdout",
          "text": [
            "SMILES: c1ccccc1 | Molecular Weight: 78.11 | Number of Atoms: 6\n"
          ]
        }
      ],
      "source": [
        "my_smiles_list = [\"CCO\", \"CC(=O)O\", \"c1ccccc1\"]\n",
        "# Calculate and display molecular properties for each molecule\n",
        "for smiles in my_smiles_list:\n",
        "    mol = Chem.MolFromSmiles(smiles)\n",
        "    mol_weight = Descriptors.MolWt(mol)\n",
        "    num_atoms = mol.GetNumAtoms()\n",
        "    display(mol)\n",
        "    print(f\"SMILES: {smiles} | Molecular Weight: {mol_weight:.2f} | Number of Atoms: {num_atoms}\")\n"
      ]
    },
    {
      "cell_type": "markdown",
      "metadata": {
        "id": "Q2SmPx7M98L6"
      },
      "source": [
        "### **Using a function: From smiles to molecular descriptors**\n",
        "\n",
        "Given a list of compounds and their SMILES define a function called **display_molecule_properties** that takes the smiles_list  and prints the molecular descriptor for each compound. Also displays each molecule along with its properties"
      ]
    },
    {
      "cell_type": "code",
      "source": [
        "compound_names = [\"methane\", \"ethanol\", \"glucose\", \"caffeine\", \"acetone\", \"benzene\", \"ibuprofen\"]\n",
        "smiles_list = ['C', 'CCO', 'C(C1C(C(C(C(O1)O)O)O)O)O', 'CN1C=NC2=C1C(=O)N(C(=O)N2C)C', 'CC(=O)C', 'C1=CC=CC=C1', 'CC(C)CC1=CC=C(C=C1)C(C)C(=O)O']"
      ],
      "metadata": {
        "id": "R526oE5SCnqP"
      },
      "execution_count": null,
      "outputs": []
    },
    {
      "cell_type": "markdown",
      "metadata": {
        "id": "vKzVziHBiLnN"
      },
      "source": [
        "Now write the function that accept the smiles_list and calculate some molecular descriptors for each molecule in smiles_list"
      ]
    },
    {
      "cell_type": "code",
      "execution_count": null,
      "metadata": {
        "id": "vSoaO7iO_cv4"
      },
      "outputs": [],
      "source": [
        "# Function to calculate properties and display molecules\n",
        "def display_molecule_properties(smiles_list):\n",
        "    for smiles in smiles_list:\n",
        "        if smiles: # This means if the smiles is valid\n",
        "\n",
        "            # Convert the SMILES string to a mol object\n",
        "            mol = Chem.MolFromSmiles(smiles)\n",
        "\n",
        "            # Calculate molecular properties\n",
        "            mol_weight = Descriptors.MolWt(mol)\n",
        "            logp = Descriptors.MolLogP(mol)\n",
        "            num_h_donors = Descriptors.NumHDonors(mol)\n",
        "            num_h_acceptors = Descriptors.NumHAcceptors(mol)\n",
        "            num_rotatable_bonds = Descriptors.NumRotatableBonds(mol)\n",
        "            tpsa = Descriptors.TPSA(mol)\n",
        "\n",
        "            # Display the molecule\n",
        "            display(mol)\n",
        "\n",
        "            # Print the properties\n",
        "            print(f\"SMILES: {smiles}\")\n",
        "            print(f\"Molecular Weight: {mol_weight}\")\n",
        "            print(f\"LogP: {logp}\")\n",
        "            print(f\"Number of Hydrogen Donors: {num_h_donors}\")\n",
        "            print(f\"Number of Hydrogen Acceptors: {num_h_acceptors}\")\n",
        "            print(f\"Number of Rotatable Bonds: {num_rotatable_bonds}\")\n",
        "            print(f\"Topological Polar Surface Area (TPSA): {tpsa}\")\n",
        "        else:\n",
        "            print(\"Invalid SMILES string\")\n"
      ]
    },
    {
      "cell_type": "markdown",
      "metadata": {
        "id": "OxpsyuRkKgvy"
      },
      "source": [
        "### **Let's use the above function for our smiles list to**"
      ]
    },
    {
      "cell_type": "code",
      "execution_count": null,
      "metadata": {
        "colab": {
          "base_uri": "https://localhost:8080/",
          "height": 1000
        },
        "id": "3a5H8U6e-Fet",
        "outputId": "8fa2a4a6-54d0-4595-8cbe-b034e8d9d5d0"
      },
      "outputs": [
        {
          "output_type": "display_data",
          "data": {
            "text/plain": [
              "<rdkit.Chem.rdchem.Mol at 0x7ab9e71b8040>"
            ],
            "image/png": "[encoded data removed]"
          },
          "metadata": {}
        },
        {
          "output_type": "stream",
          "name": "stdout",
          "text": [
            "SMILES: C\n",
            "Molecular Weight: 16.043\n",
            "LogP: 0.6361\n",
            "Number of Hydrogen Donors: 0\n",
            "Number of Hydrogen Acceptors: 0\n",
            "Number of Rotatable Bonds: 0\n",
            "Topological Polar Surface Area (TPSA): 0.0\n"
          ]
        },
        {
          "output_type": "display_data",
          "data": {
            "text/plain": [
              "<rdkit.Chem.rdchem.Mol at 0x7ab9e71b8190>"
            ],
            "image/png": "[encoded data removed]"
          },
          "metadata": {}
        },
        {
          "output_type": "stream",
          "name": "stdout",
          "text": [
            "SMILES: CCO\n",
            "Molecular Weight: 46.069\n",
            "LogP: -0.0014000000000000123\n",
            "Number of Hydrogen Donors: 1\n",
            "Number of Hydrogen Acceptors: 1\n",
            "Number of Rotatable Bonds: 0\n",
            "Topological Polar Surface Area (TPSA): 20.23\n"
          ]
        },
        {
          "output_type": "display_data",
          "data": {
            "text/plain": [
              "<rdkit.Chem.rdchem.Mol at 0x7ab9e71b8040>"
            ],
            "image/png": "[encoded data removed]"
          },
          "metadata": {}
        },
        {
          "output_type": "stream",
          "name": "stdout",
          "text": [
            "SMILES: C(C1C(C(C(C(O1)O)O)O)O)O\n",
            "Molecular Weight: 180.156\n",
            "LogP: -3.2213999999999987\n",
            "Number of Hydrogen Donors: 5\n",
            "Number of Hydrogen Acceptors: 6\n",
            "Number of Rotatable Bonds: 1\n",
            "Topological Polar Surface Area (TPSA): 110.38000000000001\n"
          ]
        },
        {
          "output_type": "display_data",
          "data": {
            "text/plain": [
              "<rdkit.Chem.rdchem.Mol at 0x7ab9e71b80b0>"
            ],
            "image/png": "[encoded data removed]"
          },
          "metadata": {}
        },
        {
          "output_type": "stream",
          "name": "stdout",
          "text": [
            "SMILES: CN1C=NC2=C1C(=O)N(C(=O)N2C)C\n",
            "Molecular Weight: 194.194\n",
            "LogP: -1.0293\n",
            "Number of Hydrogen Donors: 0\n",
            "Number of Hydrogen Acceptors: 6\n",
            "Number of Rotatable Bonds: 0\n",
            "Topological Polar Surface Area (TPSA): 61.82\n"
          ]
        },
        {
          "output_type": "display_data",
          "data": {
            "text/plain": [
              "<rdkit.Chem.rdchem.Mol at 0x7ab9e71b8190>"
            ],
            "image/png": "[encoded data removed]"
          },
          "metadata": {}
        },
        {
          "output_type": "stream",
          "name": "stdout",
          "text": [
            "SMILES: CC(=O)C\n",
            "Molecular Weight: 58.08\n",
            "LogP: 0.5952999999999999\n",
            "Number of Hydrogen Donors: 0\n",
            "Number of Hydrogen Acceptors: 1\n",
            "Number of Rotatable Bonds: 0\n",
            "Topological Polar Surface Area (TPSA): 17.07\n"
          ]
        },
        {
          "output_type": "display_data",
          "data": {
            "text/plain": [
              "<rdkit.Chem.rdchem.Mol at 0x7ab9e71b86d0>"
            ],
            "image/png": "[encoded data removed]"
          },
          "metadata": {}
        },
        {
          "output_type": "stream",
          "name": "stdout",
          "text": [
            "SMILES: C1=CC=CC=C1\n",
            "Molecular Weight: 78.11399999999999\n",
            "LogP: 1.6866\n",
            "Number of Hydrogen Donors: 0\n",
            "Number of Hydrogen Acceptors: 0\n",
            "Number of Rotatable Bonds: 0\n",
            "Topological Polar Surface Area (TPSA): 0.0\n"
          ]
        },
        {
          "output_type": "display_data",
          "data": {
            "text/plain": [
              "<rdkit.Chem.rdchem.Mol at 0x7ab9e71b80b0>"
            ],
            "image/png": "[encoded data removed]"
          },
          "metadata": {}
        },
        {
          "output_type": "stream",
          "name": "stdout",
          "text": [
            "SMILES: CC(C)CC1=CC=C(C=C1)C(C)C(=O)O\n",
            "Molecular Weight: 206.28499999999997\n",
            "LogP: 3.073200000000001\n",
            "Number of Hydrogen Donors: 1\n",
            "Number of Hydrogen Acceptors: 1\n",
            "Number of Rotatable Bonds: 4\n",
            "Topological Polar Surface Area (TPSA): 37.3\n"
          ]
        }
      ],
      "source": [
        "# Display molecules and their properties\n",
        "display_molecule_properties(smiles_list)"
      ]
    },
    {
      "cell_type": "markdown",
      "metadata": {
        "id": "ngMCTF3GRR0U"
      },
      "source": [
        "### **Lipinski's Rule of Five**\n",
        "### Lipinski's rule states that, in general, an orally active drug has no more than one violation of the following criteria\n",
        "\n",
        "* **Molecular Weight (MW)** ≤ 500\n",
        "\n",
        "\n",
        "* **LogP (the partition coefficient)**  ≤ 5:\n",
        "\n",
        "* **Number of Hydrogen Bond Donors (HBD)** ≤ 5\n",
        "\n",
        "* **Number of Hydrogen Bond Acceptors (HBA)** ≤ 10:\n",
        "\n",
        "The rule is named **\"rule of five\"** because all the conditions have multiples of five as the determinant conditions.These rules are not absolute but serve as a useful guideline for identifying compounds with favorable pharmacokinetic properties. Compounds that violate more than one of these rules are less likely to be orally active drugs."
      ]
    },
    {
      "cell_type": "markdown",
      "metadata": {
        "id": "F4vJ7IiWBMSt"
      },
      "source": [
        "### Now let's check the Lipinski's Rule of Five for **caffeine**!::"
      ]
    },
    {
      "cell_type": "code",
      "execution_count": null,
      "metadata": {
        "id": "BWAi11OVS_Nt"
      },
      "outputs": [],
      "source": [
        "# Define the SMILES string for caffeine\n",
        "caffeine_smiles = 'CN1C=NC2=C1C(=O)N(C(=O)N2C)C'\n"
      ]
    },
    {
      "cell_type": "code",
      "execution_count": null,
      "metadata": {
        "colab": {
          "base_uri": "https://localhost:8080/",
          "height": 167
        },
        "id": "NitNhOeOB6TM",
        "outputId": "3a03af8d-e1c4-4753-bee5-fcf0415c8614"
      },
      "outputs": [
        {
          "output_type": "display_data",
          "data": {
            "text/plain": [
              "<rdkit.Chem.rdchem.Mol at 0x7ab9e71b8200>"
            ],
            "image/png": "[encoded data removed]"
          },
          "metadata": {}
        }
      ],
      "source": [
        "# Convert the SMILES string to an RDKit molecule object\n",
        "mol = Chem.MolFromSmiles(caffeine_smiles)\n",
        "display(mol)"
      ]
    },
    {
      "cell_type": "code",
      "execution_count": null,
      "metadata": {
        "id": "kkex5H_MBeao"
      },
      "outputs": [],
      "source": [
        "# Compute Lipinski's descriptors using Descriptors module\n",
        "molecular_weight = Descriptors.MolWt(mol)\n",
        "logp = Descriptors.MolLogP(mol)\n",
        "num_h_donors = Descriptors.NumHDonors(mol)\n",
        "num_h_acceptors = Descriptors.NumHAcceptors(mol)\n",
        "num_rotatable_bonds = Descriptors.NumRotatableBonds(mol)\n",
        "num_aromatic_rings = Descriptors.NumAromaticRings(mol)"
      ]
    },
    {
      "cell_type": "code",
      "execution_count": null,
      "metadata": {
        "colab": {
          "base_uri": "https://localhost:8080/"
        },
        "id": "Ny7xfoTYBeTj",
        "outputId": "fa193878-5811-4239-dc41-4b353a802aa9"
      },
      "outputs": [
        {
          "output_type": "stream",
          "name": "stdout",
          "text": [
            "Molecular Weight: 194.194\n",
            "LogP: -1.0293\n",
            "Number of Hydrogen Donors: 0\n",
            "Number of Hydrogen Acceptors: 6\n",
            "Number of Rotatable Bonds: 0\n",
            "Number of Aromatic Rings: 2\n"
          ]
        }
      ],
      "source": [
        "# Print the computed descriptors\n",
        "print(f\"Molecular Weight: {molecular_weight}\")\n",
        "print(f\"LogP: {logp}\")\n",
        "print(f\"Number of Hydrogen Donors: {num_h_donors}\")\n",
        "print(f\"Number of Hydrogen Acceptors: {num_h_acceptors}\")\n",
        "print(f\"Number of Rotatable Bonds: {num_rotatable_bonds}\")\n",
        "print(f\"Number of Aromatic Rings: {num_aromatic_rings}\")"
      ]
    },
    {
      "cell_type": "code",
      "execution_count": null,
      "metadata": {
        "id": "zR9YeAfFBeMb"
      },
      "outputs": [],
      "source": [
        "# Check Lipinski's Rule of Five\n",
        "violations = 0\n",
        "if molecular_weight > 500:\n",
        "    violations += 1\n",
        "if logp > 5:\n",
        "    violations += 1\n",
        "if num_h_donors > 5:\n",
        "    violations += 1\n",
        "if num_h_acceptors > 10:\n",
        "    violations += 1"
      ]
    },
    {
      "cell_type": "code",
      "source": [
        "# Print the number of violations\n",
        "print(f\"Violations of Lipinski's Rule of Five: {violations}\")"
      ],
      "metadata": {
        "colab": {
          "base_uri": "https://localhost:8080/"
        },
        "id": "vsMAFS3SF5Uy",
        "outputId": "a0107b3a-c607-4cbb-f548-5e03cb129409"
      },
      "execution_count": null,
      "outputs": [
        {
          "output_type": "stream",
          "name": "stdout",
          "text": [
            "Violations of Lipinski's Rule of Five: 0\n"
          ]
        }
      ]
    },
    {
      "cell_type": "code",
      "execution_count": null,
      "metadata": {
        "colab": {
          "base_uri": "https://localhost:8080/"
        },
        "id": "WKGRAy5jBpul",
        "outputId": "4feb0121-f1e5-46e6-955d-096900584984"
      },
      "outputs": [
        {
          "output_type": "stream",
          "name": "stdout",
          "text": [
            "Summary of Lipinski's Rule of Five for caffeine:\n",
            "1. Molecular weight <= 500: Pass\n",
            "2. LogP <= 5: Pass\n",
            "3. Hydrogen bond donors <= 5: Pass\n",
            "4. Hydrogen bond acceptors <= 10: Pass\n"
          ]
        }
      ],
      "source": [
        "# Summary of Lipinski's rules\n",
        "print(\"Summary of Lipinski's Rule of Five for caffeine:\")\n",
        "print(f\"1. Molecular weight <= 500: {'Pass' if molecular_weight <= 500 else 'Fail'}\")\n",
        "print(f\"2. LogP <= 5: {'Pass' if logp <= 5 else 'Fail'}\")\n",
        "print(f\"3. Hydrogen bond donors <= 5: {'Pass' if num_h_donors <= 5 else 'Fail'}\")\n",
        "print(f\"4. Hydrogen bond acceptors <= 10: {'Pass' if num_h_acceptors <= 10 else 'Fail'}\")"
      ]
    },
    {
      "cell_type": "markdown",
      "source": [
        "### **Descriptor-Based Filtering**\n",
        "Descriptor-Based Filtering is a method used in drug discovery and chemoinformatics to filter large libraries of compounds based on specific molecular descriptors. This approach helps in narrowing down the compound library to those with desirable properties, making it a crucial step in virtual screening and lead optimization"
      ],
      "metadata": {
        "id": "1LfIJ--hnfUx"
      }
    },
    {
      "cell_type": "markdown",
      "source": [
        "Let's say you're working on identifying potential oral drug candidates.We want use the following criteria based on Lipinski's Rule of Five **but  focus only on smaller molecules with molecular weight less than 150**\n",
        "\n",
        "Molecular Weight: ≤ 150 Da\n",
        "\n",
        "LogP: Between -1 and 5\n",
        "\n",
        "Number of Hydrogen Bond Donors (HBD): ≤ 5\n",
        "\n",
        "Number of Hydrogen Bond Acceptors (HBA): ≤ 10\n",
        "\n",
        "Topological Polar Surface Area (TPSA): ≤ 140 Å"
      ],
      "metadata": {
        "id": "IMwMhGKi0DCI"
      }
    },
    {
      "cell_type": "code",
      "source": [
        "import pandas as pd"
      ],
      "metadata": {
        "id": "buizxj3B0bYM"
      },
      "execution_count": null,
      "outputs": []
    },
    {
      "cell_type": "markdown",
      "source": [
        "## **Read the input data**\n"
      ],
      "metadata": {
        "id": "zaNDjGQN0djN"
      }
    },
    {
      "cell_type": "code",
      "source": [
        "smiles_url = \"https://raw.githubusercontent.com/sofia-sunny/Introductory_Tutorials/main/data/100_smiles.csv\"\n",
        "df = pd.read_csv(smiles_url)\n",
        "df.head()"
      ],
      "metadata": {
        "colab": {
          "base_uri": "https://localhost:8080/",
          "height": 206
        },
        "id": "MaTgz3nN0tHU",
        "outputId": "4f7607e7-e001-41b3-c783-a4f00944a811"
      },
      "execution_count": null,
      "outputs": [
        {
          "output_type": "execute_result",
          "data": {
            "text/plain": [
              "                                      SMILES\n",
              "0                [O-][N+](=O)C1=CC=C(Cl)C=C1\n",
              "1  C[SiH](C)O[Si](C)(C)O[Si](C)(C)O[SiH](C)C\n",
              "2                   CN1CCN(CC1)C(=O)C1CCCCC1\n",
              "3                 NC1=CC=C(C=C1)[N+]([O-])=O\n",
              "4                 OC1=CC=C(C=C1)[N+]([O-])=O"
            ],
            "text/html": [
              "\n",
              "  <div id=\"df-70fb3fdb-bd0f-49a4-bc54-8605f4a40e53\" class=\"colab-df-container\">\n",
              "    <div>\n",
              "<style scoped>\n",
              "    .dataframe tbody tr th:only-of-type {\n",
              "        vertical-align: middle;\n",
              "    }\n",
              "\n",
              "    .dataframe tbody tr th {\n",
              "        vertical-align: top;\n",
              "    }\n",
              "\n",
              "    .dataframe thead th {\n",
              "        text-align: right;\n",
              "    }\n",
              "</style>\n",
              "<table border=\"1\" class=\"dataframe\">\n",
              "  <thead>\n",
              "    <tr style=\"text-align: right;\">\n",
              "      <th></th>\n",
              "      <th>SMILES</th>\n",
              "    </tr>\n",
              "  </thead>\n",
              "  <tbody>\n",
              "    <tr>\n",
              "      <th>0</th>\n",
              "      <td>[O-][N+](=O)C1=CC=C(Cl)C=C1</td>\n",
              "    </tr>\n",
              "    <tr>\n",
              "      <th>1</th>\n",
              "      <td>C[SiH](C)O[Si](C)(C)O[Si](C)(C)O[SiH](C)C</td>\n",
              "    </tr>\n",
              "    <tr>\n",
              "      <th>2</th>\n",
              "      <td>CN1CCN(CC1)C(=O)C1CCCCC1</td>\n",
              "    </tr>\n",
              "    <tr>\n",
              "      <th>3</th>\n",
              "      <td>NC1=CC=C(C=C1)[N+]([O-])=O</td>\n",
              "    </tr>\n",
              "    <tr>\n",
              "      <th>4</th>\n",
              "      <td>OC1=CC=C(C=C1)[N+]([O-])=O</td>\n",
              "    </tr>\n",
              "  </tbody>\n",
              "</table>\n",
              "</div>\n",
              "    <div class=\"colab-df-buttons\">\n",
              "\n",
              "  <div class=\"colab-df-container\">\n",
              "    <button class=\"colab-df-convert\" onclick=\"convertToInteractive('df-70fb3fdb-bd0f-49a4-bc54-8605f4a40e53')\"\n",
              "            title=\"Convert this dataframe to an interactive table.\"\n",
              "            style=\"display:none;\">\n",
              "\n",
              "  <svg xmlns=\"http://www.w3.org/2000/svg\" height=\"24px\" viewBox=\"0 -960 960 960\">\n",
              "    <path d=\"M120-120v-720h720v720H120Zm60-500h600v-160H180v160Zm220 220h160v-160H400v160Zm0 220h160v-160H400v160ZM180-400h160v-160H180v160Zm440 0h160v-160H620v160ZM180-180h160v-160H180v160Zm440 0h160v-160H620v160Z\"/>\n",
              "  </svg>\n",
              "    </button>\n",
              "\n",
              "  <style>\n",
              "    .colab-df-container {\n",
              "      display:flex;\n",
              "      gap: 12px;\n",
              "    }\n",
              "\n",
              "    .colab-df-convert {\n",
              "      background-color: #E8F0FE;\n",
              "      border: none;\n",
              "      border-radius: 50%;\n",
              "      cursor: pointer;\n",
              "      display: none;\n",
              "      fill: #1967D2;\n",
              "      height: 32px;\n",
              "      padding: 0 0 0 0;\n",
              "      width: 32px;\n",
              "    }\n",
              "\n",
              "    .colab-df-convert:hover {\n",
              "      background-color: #E2EBFA;\n",
              "      box-shadow: 0px 1px 2px rgba(60, 64, 67, 0.3), 0px 1px 3px 1px rgba(60, 64, 67, 0.15);\n",
              "      fill: #174EA6;\n",
              "    }\n",
              "\n",
              "    .colab-df-buttons div {\n",
              "      margin-bottom: 4px;\n",
              "    }\n",
              "\n",
              "    [theme=dark] .colab-df-convert {\n",
              "      background-color: #3B4455;\n",
              "      fill: #D2E3FC;\n",
              "    }\n",
              "\n",
              "    [theme=dark] .colab-df-convert:hover {\n",
              "      background-color: #434B5C;\n",
              "      box-shadow: 0px 1px 3px 1px rgba(0, 0, 0, 0.15);\n",
              "      filter: drop-shadow(0px 1px 2px rgba(0, 0, 0, 0.3));\n",
              "      fill: #FFFFFF;\n",
              "    }\n",
              "  </style>\n",
              "\n",
              "    <script>\n",
              "      const buttonEl =\n",
              "        document.querySelector('#df-70fb3fdb-bd0f-49a4-bc54-8605f4a40e53 button.colab-df-convert');\n",
              "      buttonEl.style.display =\n",
              "        google.colab.kernel.accessAllowed ? 'block' : 'none';\n",
              "\n",
              "      async function convertToInteractive(key) {\n",
              "        const element = document.querySelector('#df-70fb3fdb-bd0f-49a4-bc54-8605f4a40e53');\n",
              "        const dataTable =\n",
              "          await google.colab.kernel.invokeFunction('convertToInteractive',\n",
              "                                                    [key], {});\n",
              "        if (!dataTable) return;\n",
              "\n",
              "        const docLinkHtml = 'Like what you see? Visit the ' +\n",
              "          '<a target=\"_blank\" href=https://colab.research.google.com/notebooks/data_table.ipynb>data table notebook</a>'\n",
              "          + ' to learn more about interactive tables.';\n",
              "        element.innerHTML = '';\n",
              "        dataTable['output_type'] = 'display_data';\n",
              "        await google.colab.output.renderOutput(dataTable, element);\n",
              "        const docLink = document.createElement('div');\n",
              "        docLink.innerHTML = docLinkHtml;\n",
              "        element.appendChild(docLink);\n",
              "      }\n",
              "    </script>\n",
              "  </div>\n",
              "\n",
              "\n",
              "    <div id=\"df-76f5507b-017d-4780-b22e-9c8542b48c64\">\n",
              "      <button class=\"colab-df-quickchart\" onclick=\"quickchart('df-76f5507b-017d-4780-b22e-9c8542b48c64')\"\n",
              "                title=\"Suggest charts\"\n",
              "                style=\"display:none;\">\n",
              "\n",
              "<svg xmlns=\"http://www.w3.org/2000/svg\" height=\"24px\"viewBox=\"0 0 24 24\"\n",
              "     width=\"24px\">\n",
              "    <g>\n",
              "        <path d=\"M19 3H5c-1.1 0-2 .9-2 2v14c0 1.1.9 2 2 2h14c1.1 0 2-.9 2-2V5c0-1.1-.9-2-2-2zM9 17H7v-7h2v7zm4 0h-2V7h2v10zm4 0h-2v-4h2v4z\"/>\n",
              "    </g>\n",
              "</svg>\n",
              "      </button>\n",
              "\n",
              "<style>\n",
              "  .colab-df-quickchart {\n",
              "      --bg-color: #E8F0FE;\n",
              "      --fill-color: #1967D2;\n",
              "      --hover-bg-color: #E2EBFA;\n",
              "      --hover-fill-color: #174EA6;\n",
              "      --disabled-fill-color: #AAA;\n",
              "      --disabled-bg-color: #DDD;\n",
              "  }\n",
              "\n",
              "  [theme=dark] .colab-df-quickchart {\n",
              "      --bg-color: #3B4455;\n",
              "      --fill-color: #D2E3FC;\n",
              "      --hover-bg-color: #434B5C;\n",
              "      --hover-fill-color: #FFFFFF;\n",
              "      --disabled-bg-color: #3B4455;\n",
              "      --disabled-fill-color: #666;\n",
              "  }\n",
              "\n",
              "  .colab-df-quickchart {\n",
              "    background-color: var(--bg-color);\n",
              "    border: none;\n",
              "    border-radius: 50%;\n",
              "    cursor: pointer;\n",
              "    display: none;\n",
              "    fill: var(--fill-color);\n",
              "    height: 32px;\n",
              "    padding: 0;\n",
              "    width: 32px;\n",
              "  }\n",
              "\n",
              "  .colab-df-quickchart:hover {\n",
              "    background-color: var(--hover-bg-color);\n",
              "    box-shadow: 0 1px 2px rgba(60, 64, 67, 0.3), 0 1px 3px 1px rgba(60, 64, 67, 0.15);\n",
              "    fill: var(--button-hover-fill-color);\n",
              "  }\n",
              "\n",
              "  .colab-df-quickchart-complete:disabled,\n",
              "  .colab-df-quickchart-complete:disabled:hover {\n",
              "    background-color: var(--disabled-bg-color);\n",
              "    fill: var(--disabled-fill-color);\n",
              "    box-shadow: none;\n",
              "  }\n",
              "\n",
              "  .colab-df-spinner {\n",
              "    border: 2px solid var(--fill-color);\n",
              "    border-color: transparent;\n",
              "    border-bottom-color: var(--fill-color);\n",
              "    animation:\n",
              "      spin 1s steps(1) infinite;\n",
              "  }\n",
              "\n",
              "  @keyframes spin {\n",
              "    0% {\n",
              "      border-color: transparent;\n",
              "      border-bottom-color: var(--fill-color);\n",
              "      border-left-color: var(--fill-color);\n",
              "    }\n",
              "    20% {\n",
              "      border-color: transparent;\n",
              "      border-left-color: var(--fill-color);\n",
              "      border-top-color: var(--fill-color);\n",
              "    }\n",
              "    30% {\n",
              "      border-color: transparent;\n",
              "      border-left-color: var(--fill-color);\n",
              "      border-top-color: var(--fill-color);\n",
              "      border-right-color: var(--fill-color);\n",
              "    }\n",
              "    40% {\n",
              "      border-color: transparent;\n",
              "      border-right-color: var(--fill-color);\n",
              "      border-top-color: var(--fill-color);\n",
              "    }\n",
              "    60% {\n",
              "      border-color: transparent;\n",
              "      border-right-color: var(--fill-color);\n",
              "    }\n",
              "    80% {\n",
              "      border-color: transparent;\n",
              "      border-right-color: var(--fill-color);\n",
              "      border-bottom-color: var(--fill-color);\n",
              "    }\n",
              "    90% {\n",
              "      border-color: transparent;\n",
              "      border-bottom-color: var(--fill-color);\n",
              "    }\n",
              "  }\n",
              "</style>\n",
              "\n",
              "      <script>\n",
              "        async function quickchart(key) {\n",
              "          const quickchartButtonEl =\n",
              "            document.querySelector('#' + key + ' button');\n",
              "          quickchartButtonEl.disabled = true;  // To prevent multiple clicks.\n",
              "          quickchartButtonEl.classList.add('colab-df-spinner');\n",
              "          try {\n",
              "            const charts = await google.colab.kernel.invokeFunction(\n",
              "                'suggestCharts', [key], {});\n",
              "          } catch (error) {\n",
              "            console.error('Error during call to suggestCharts:', error);\n",
              "          }\n",
              "          quickchartButtonEl.classList.remove('colab-df-spinner');\n",
              "          quickchartButtonEl.classList.add('colab-df-quickchart-complete');\n",
              "        }\n",
              "        (() => {\n",
              "          let quickchartButtonEl =\n",
              "            document.querySelector('#df-76f5507b-017d-4780-b22e-9c8542b48c64 button');\n",
              "          quickchartButtonEl.style.display =\n",
              "            google.colab.kernel.accessAllowed ? 'block' : 'none';\n",
              "        })();\n",
              "      </script>\n",
              "    </div>\n",
              "\n",
              "    </div>\n",
              "  </div>\n"
            ],
            "application/vnd.google.colaboratory.intrinsic+json": {
              "type": "dataframe",
              "variable_name": "df",
              "summary": "{\n  \"name\": \"df\",\n  \"rows\": 100,\n  \"fields\": [\n    {\n      \"column\": \"SMILES\",\n      \"properties\": {\n        \"dtype\": \"string\",\n        \"num_unique_values\": 100,\n        \"samples\": [\n          \"O.O.O.O.O.O.[Ni++].[O-]S([O-])(=O)=O\",\n          \"O=CC1=CC=CC=C1\",\n          \"C1CN2CCC1CC2\"\n        ],\n        \"semantic_type\": \"\",\n        \"description\": \"\"\n      }\n    }\n  ]\n}"
            }
          },
          "metadata": {},
          "execution_count": 29
        }
      ]
    },
    {
      "cell_type": "markdown",
      "source": [
        "### Now we want to calculate the molecular descriptors for each smiles. First we create some empty lists to put the descriptors in them"
      ],
      "metadata": {
        "id": "K7luYgEDI-KY"
      }
    },
    {
      "cell_type": "code",
      "source": [
        "# Initialize empty lists for descriptors\n",
        "mol_wt_list = [] # list for Molecular Weight\n",
        "logp_list = [] # list for logP\n",
        "hbd_list = [] # list for number of Hydrogen bond donors\n",
        "hba_list = [] # list for number of Hydrogen bond acceptors\n",
        "tpsa_list = [] # list for Topological Polar Surface Area (TPSA)"
      ],
      "metadata": {
        "id": "FLVOMdWXJj4w"
      },
      "execution_count": null,
      "outputs": []
    },
    {
      "cell_type": "code",
      "source": [
        "# Calculate descriptors for each SMILES\n",
        "for smiles in df['SMILES']:\n",
        "    mol = Chem.MolFromSmiles(smiles)\n",
        "    if mol:\n",
        "        mol_wt_list.append(Descriptors.MolWt(mol))\n",
        "        logp_list.append(Descriptors.MolLogP(mol))\n",
        "        hbd_list.append(Descriptors.NumHDonors(mol))\n",
        "        hba_list.append(Descriptors.NumHAcceptors(mol))\n",
        "        tpsa_list.append(Descriptors.TPSA(mol))\n",
        "    else:\n",
        "        mol_wt_list.append(None)\n",
        "        logp_list.append(None)\n",
        "        hbd_list.append(None)\n",
        "        hba_list.append(None)\n",
        "        tpsa_list.append(None)"
      ],
      "metadata": {
        "id": "Qo4eaZ8cJ9K_"
      },
      "execution_count": null,
      "outputs": []
    },
    {
      "cell_type": "markdown",
      "source": [
        "Add descriptors to the DataFrame so each descriptor will have a column"
      ],
      "metadata": {
        "id": "5IYyKZ19CgSq"
      }
    },
    {
      "cell_type": "code",
      "source": [
        "# Add descriptors to the DataFrame\n",
        "df['MolWt'] = mol_wt_list\n",
        "df['LogP'] = logp_list\n",
        "df['HBD'] = hbd_list\n",
        "df['HBA'] = hba_list\n",
        "df['TPSA'] = tpsa_list\n"
      ],
      "metadata": {
        "id": "Tx6OBm1tIegP"
      },
      "execution_count": null,
      "outputs": []
    },
    {
      "cell_type": "markdown",
      "source": [
        "### **Check the df with molecular descriptors:**"
      ],
      "metadata": {
        "id": "UIpRztlBKQqn"
      }
    },
    {
      "cell_type": "code",
      "source": [
        "df.head()"
      ],
      "metadata": {
        "colab": {
          "base_uri": "https://localhost:8080/",
          "height": 206
        },
        "id": "8Race5OJKPkQ",
        "outputId": "1ef63d2e-26a6-48de-89d2-8599f91b2f75"
      },
      "execution_count": null,
      "outputs": [
        {
          "output_type": "execute_result",
          "data": {
            "text/plain": [
              "                                      SMILES    MolWt    LogP  HBD  HBA   TPSA\n",
              "0                [O-][N+](=O)C1=CC=C(Cl)C=C1  157.556  2.2482    0    2  43.14\n",
              "1  C[SiH](C)O[Si](C)(C)O[Si](C)(C)O[SiH](C)C  282.637  2.4066    0    3  27.69\n",
              "2                   CN1CCN(CC1)C(=O)C1CCCCC1  210.321  1.3407    0    2  23.55\n",
              "3                 NC1=CC=C(C=C1)[N+]([O-])=O  138.126  1.1770    1    3  69.16\n",
              "4                 OC1=CC=C(C=C1)[N+]([O-])=O  139.110  1.3004    1    3  63.37"
            ],
            "text/html": [
              "\n",
              "  <div id=\"df-fe94d341-fc79-4b3f-be10-bdd17c4b4950\" class=\"colab-df-container\">\n",
              "    <div>\n",
              "<style scoped>\n",
              "    .dataframe tbody tr th:only-of-type {\n",
              "        vertical-align: middle;\n",
              "    }\n",
              "\n",
              "    .dataframe tbody tr th {\n",
              "        vertical-align: top;\n",
              "    }\n",
              "\n",
              "    .dataframe thead th {\n",
              "        text-align: right;\n",
              "    }\n",
              "</style>\n",
              "<table border=\"1\" class=\"dataframe\">\n",
              "  <thead>\n",
              "    <tr style=\"text-align: right;\">\n",
              "      <th></th>\n",
              "      <th>SMILES</th>\n",
              "      <th>MolWt</th>\n",
              "      <th>LogP</th>\n",
              "      <th>HBD</th>\n",
              "      <th>HBA</th>\n",
              "      <th>TPSA</th>\n",
              "    </tr>\n",
              "  </thead>\n",
              "  <tbody>\n",
              "    <tr>\n",
              "      <th>0</th>\n",
              "      <td>[O-][N+](=O)C1=CC=C(Cl)C=C1</td>\n",
              "      <td>157.556</td>\n",
              "      <td>2.2482</td>\n",
              "      <td>0</td>\n",
              "      <td>2</td>\n",
              "      <td>43.14</td>\n",
              "    </tr>\n",
              "    <tr>\n",
              "      <th>1</th>\n",
              "      <td>C[SiH](C)O[Si](C)(C)O[Si](C)(C)O[SiH](C)C</td>\n",
              "      <td>282.637</td>\n",
              "      <td>2.4066</td>\n",
              "      <td>0</td>\n",
              "      <td>3</td>\n",
              "      <td>27.69</td>\n",
              "    </tr>\n",
              "    <tr>\n",
              "      <th>2</th>\n",
              "      <td>CN1CCN(CC1)C(=O)C1CCCCC1</td>\n",
              "      <td>210.321</td>\n",
              "      <td>1.3407</td>\n",
              "      <td>0</td>\n",
              "      <td>2</td>\n",
              "      <td>23.55</td>\n",
              "    </tr>\n",
              "    <tr>\n",
              "      <th>3</th>\n",
              "      <td>NC1=CC=C(C=C1)[N+]([O-])=O</td>\n",
              "      <td>138.126</td>\n",
              "      <td>1.1770</td>\n",
              "      <td>1</td>\n",
              "      <td>3</td>\n",
              "      <td>69.16</td>\n",
              "    </tr>\n",
              "    <tr>\n",
              "      <th>4</th>\n",
              "      <td>OC1=CC=C(C=C1)[N+]([O-])=O</td>\n",
              "      <td>139.110</td>\n",
              "      <td>1.3004</td>\n",
              "      <td>1</td>\n",
              "      <td>3</td>\n",
              "      <td>63.37</td>\n",
              "    </tr>\n",
              "  </tbody>\n",
              "</table>\n",
              "</div>\n",
              "    <div class=\"colab-df-buttons\">\n",
              "\n",
              "  <div class=\"colab-df-container\">\n",
              "    <button class=\"colab-df-convert\" onclick=\"convertToInteractive('df-fe94d341-fc79-4b3f-be10-bdd17c4b4950')\"\n",
              "            title=\"Convert this dataframe to an interactive table.\"\n",
              "            style=\"display:none;\">\n",
              "\n",
              "  <svg xmlns=\"http://www.w3.org/2000/svg\" height=\"24px\" viewBox=\"0 -960 960 960\">\n",
              "    <path d=\"M120-120v-720h720v720H120Zm60-500h600v-160H180v160Zm220 220h160v-160H400v160Zm0 220h160v-160H400v160ZM180-400h160v-160H180v160Zm440 0h160v-160H620v160ZM180-180h160v-160H180v160Zm440 0h160v-160H620v160Z\"/>\n",
              "  </svg>\n",
              "    </button>\n",
              "\n",
              "  <style>\n",
              "    .colab-df-container {\n",
              "      display:flex;\n",
              "      gap: 12px;\n",
              "    }\n",
              "\n",
              "    .colab-df-convert {\n",
              "      background-color: #E8F0FE;\n",
              "      border: none;\n",
              "      border-radius: 50%;\n",
              "      cursor: pointer;\n",
              "      display: none;\n",
              "      fill: #1967D2;\n",
              "      height: 32px;\n",
              "      padding: 0 0 0 0;\n",
              "      width: 32px;\n",
              "    }\n",
              "\n",
              "    .colab-df-convert:hover {\n",
              "      background-color: #E2EBFA;\n",
              "      box-shadow: 0px 1px 2px rgba(60, 64, 67, 0.3), 0px 1px 3px 1px rgba(60, 64, 67, 0.15);\n",
              "      fill: #174EA6;\n",
              "    }\n",
              "\n",
              "    .colab-df-buttons div {\n",
              "      margin-bottom: 4px;\n",
              "    }\n",
              "\n",
              "    [theme=dark] .colab-df-convert {\n",
              "      background-color: #3B4455;\n",
              "      fill: #D2E3FC;\n",
              "    }\n",
              "\n",
              "    [theme=dark] .colab-df-convert:hover {\n",
              "      background-color: #434B5C;\n",
              "      box-shadow: 0px 1px 3px 1px rgba(0, 0, 0, 0.15);\n",
              "      filter: drop-shadow(0px 1px 2px rgba(0, 0, 0, 0.3));\n",
              "      fill: #FFFFFF;\n",
              "    }\n",
              "  </style>\n",
              "\n",
              "    <script>\n",
              "      const buttonEl =\n",
              "        document.querySelector('#df-fe94d341-fc79-4b3f-be10-bdd17c4b4950 button.colab-df-convert');\n",
              "      buttonEl.style.display =\n",
              "        google.colab.kernel.accessAllowed ? 'block' : 'none';\n",
              "\n",
              "      async function convertToInteractive(key) {\n",
              "        const element = document.querySelector('#df-fe94d341-fc79-4b3f-be10-bdd17c4b4950');\n",
              "        const dataTable =\n",
              "          await google.colab.kernel.invokeFunction('convertToInteractive',\n",
              "                                                    [key], {});\n",
              "        if (!dataTable) return;\n",
              "\n",
              "        const docLinkHtml = 'Like what you see? Visit the ' +\n",
              "          '<a target=\"_blank\" href=https://colab.research.google.com/notebooks/data_table.ipynb>data table notebook</a>'\n",
              "          + ' to learn more about interactive tables.';\n",
              "        element.innerHTML = '';\n",
              "        dataTable['output_type'] = 'display_data';\n",
              "        await google.colab.output.renderOutput(dataTable, element);\n",
              "        const docLink = document.createElement('div');\n",
              "        docLink.innerHTML = docLinkHtml;\n",
              "        element.appendChild(docLink);\n",
              "      }\n",
              "    </script>\n",
              "  </div>\n",
              "\n",
              "\n",
              "    <div id=\"df-cb38edbb-c555-43fb-a1c3-d7278a94f06d\">\n",
              "      <button class=\"colab-df-quickchart\" onclick=\"quickchart('df-cb38edbb-c555-43fb-a1c3-d7278a94f06d')\"\n",
              "                title=\"Suggest charts\"\n",
              "                style=\"display:none;\">\n",
              "\n",
              "<svg xmlns=\"http://www.w3.org/2000/svg\" height=\"24px\"viewBox=\"0 0 24 24\"\n",
              "     width=\"24px\">\n",
              "    <g>\n",
              "        <path d=\"M19 3H5c-1.1 0-2 .9-2 2v14c0 1.1.9 2 2 2h14c1.1 0 2-.9 2-2V5c0-1.1-.9-2-2-2zM9 17H7v-7h2v7zm4 0h-2V7h2v10zm4 0h-2v-4h2v4z\"/>\n",
              "    </g>\n",
              "</svg>\n",
              "      </button>\n",
              "\n",
              "<style>\n",
              "  .colab-df-quickchart {\n",
              "      --bg-color: #E8F0FE;\n",
              "      --fill-color: #1967D2;\n",
              "      --hover-bg-color: #E2EBFA;\n",
              "      --hover-fill-color: #174EA6;\n",
              "      --disabled-fill-color: #AAA;\n",
              "      --disabled-bg-color: #DDD;\n",
              "  }\n",
              "\n",
              "  [theme=dark] .colab-df-quickchart {\n",
              "      --bg-color: #3B4455;\n",
              "      --fill-color: #D2E3FC;\n",
              "      --hover-bg-color: #434B5C;\n",
              "      --hover-fill-color: #FFFFFF;\n",
              "      --disabled-bg-color: #3B4455;\n",
              "      --disabled-fill-color: #666;\n",
              "  }\n",
              "\n",
              "  .colab-df-quickchart {\n",
              "    background-color: var(--bg-color);\n",
              "    border: none;\n",
              "    border-radius: 50%;\n",
              "    cursor: pointer;\n",
              "    display: none;\n",
              "    fill: var(--fill-color);\n",
              "    height: 32px;\n",
              "    padding: 0;\n",
              "    width: 32px;\n",
              "  }\n",
              "\n",
              "  .colab-df-quickchart:hover {\n",
              "    background-color: var(--hover-bg-color);\n",
              "    box-shadow: 0 1px 2px rgba(60, 64, 67, 0.3), 0 1px 3px 1px rgba(60, 64, 67, 0.15);\n",
              "    fill: var(--button-hover-fill-color);\n",
              "  }\n",
              "\n",
              "  .colab-df-quickchart-complete:disabled,\n",
              "  .colab-df-quickchart-complete:disabled:hover {\n",
              "    background-color: var(--disabled-bg-color);\n",
              "    fill: var(--disabled-fill-color);\n",
              "    box-shadow: none;\n",
              "  }\n",
              "\n",
              "  .colab-df-spinner {\n",
              "    border: 2px solid var(--fill-color);\n",
              "    border-color: transparent;\n",
              "    border-bottom-color: var(--fill-color);\n",
              "    animation:\n",
              "      spin 1s steps(1) infinite;\n",
              "  }\n",
              "\n",
              "  @keyframes spin {\n",
              "    0% {\n",
              "      border-color: transparent;\n",
              "      border-bottom-color: var(--fill-color);\n",
              "      border-left-color: var(--fill-color);\n",
              "    }\n",
              "    20% {\n",
              "      border-color: transparent;\n",
              "      border-left-color: var(--fill-color);\n",
              "      border-top-color: var(--fill-color);\n",
              "    }\n",
              "    30% {\n",
              "      border-color: transparent;\n",
              "      border-left-color: var(--fill-color);\n",
              "      border-top-color: var(--fill-color);\n",
              "      border-right-color: var(--fill-color);\n",
              "    }\n",
              "    40% {\n",
              "      border-color: transparent;\n",
              "      border-right-color: var(--fill-color);\n",
              "      border-top-color: var(--fill-color);\n",
              "    }\n",
              "    60% {\n",
              "      border-color: transparent;\n",
              "      border-right-color: var(--fill-color);\n",
              "    }\n",
              "    80% {\n",
              "      border-color: transparent;\n",
              "      border-right-color: var(--fill-color);\n",
              "      border-bottom-color: var(--fill-color);\n",
              "    }\n",
              "    90% {\n",
              "      border-color: transparent;\n",
              "      border-bottom-color: var(--fill-color);\n",
              "    }\n",
              "  }\n",
              "</style>\n",
              "\n",
              "      <script>\n",
              "        async function quickchart(key) {\n",
              "          const quickchartButtonEl =\n",
              "            document.querySelector('#' + key + ' button');\n",
              "          quickchartButtonEl.disabled = true;  // To prevent multiple clicks.\n",
              "          quickchartButtonEl.classList.add('colab-df-spinner');\n",
              "          try {\n",
              "            const charts = await google.colab.kernel.invokeFunction(\n",
              "                'suggestCharts', [key], {});\n",
              "          } catch (error) {\n",
              "            console.error('Error during call to suggestCharts:', error);\n",
              "          }\n",
              "          quickchartButtonEl.classList.remove('colab-df-spinner');\n",
              "          quickchartButtonEl.classList.add('colab-df-quickchart-complete');\n",
              "        }\n",
              "        (() => {\n",
              "          let quickchartButtonEl =\n",
              "            document.querySelector('#df-cb38edbb-c555-43fb-a1c3-d7278a94f06d button');\n",
              "          quickchartButtonEl.style.display =\n",
              "            google.colab.kernel.accessAllowed ? 'block' : 'none';\n",
              "        })();\n",
              "      </script>\n",
              "    </div>\n",
              "\n",
              "    </div>\n",
              "  </div>\n"
            ],
            "application/vnd.google.colaboratory.intrinsic+json": {
              "type": "dataframe",
              "variable_name": "df",
              "summary": "{\n  \"name\": \"df\",\n  \"rows\": 100,\n  \"fields\": [\n    {\n      \"column\": \"SMILES\",\n      \"properties\": {\n        \"dtype\": \"string\",\n        \"num_unique_values\": 100,\n        \"samples\": [\n          \"O.O.O.O.O.O.[Ni++].[O-]S([O-])(=O)=O\",\n          \"O=CC1=CC=CC=C1\",\n          \"C1CN2CCC1CC2\"\n        ],\n        \"semantic_type\": \"\",\n        \"description\": \"\"\n      }\n    },\n    {\n      \"column\": \"MolWt\",\n      \"properties\": {\n        \"dtype\": \"number\",\n        \"std\": 80.85301054604706,\n        \"min\": 61.83300000000001,\n        \"max\": 441.4020000000002,\n        \"num_unique_values\": 97,\n        \"samples\": [\n          109.12799999999997,\n          158.28499999999997,\n          213.66400000000002\n        ],\n        \"semantic_type\": \"\",\n        \"description\": \"\"\n      }\n    },\n    {\n      \"column\": \"LogP\",\n      \"properties\": {\n        \"dtype\": \"number\",\n        \"std\": 2.6402897430142596,\n        \"min\": -8.8696,\n        \"max\": 8.082000000000008,\n        \"num_unique_values\": 95,\n        \"samples\": [\n          2.638020000000001,\n          4.308699999999999,\n          2.0\n        ],\n        \"semantic_type\": \"\",\n        \"description\": \"\"\n      }\n    },\n    {\n      \"column\": \"HBD\",\n      \"properties\": {\n        \"dtype\": \"number\",\n        \"std\": 0,\n        \"min\": 0,\n        \"max\": 4,\n        \"num_unique_values\": 5,\n        \"samples\": [\n          1,\n          3,\n          2\n        ],\n        \"semantic_type\": \"\",\n        \"description\": \"\"\n      }\n    },\n    {\n      \"column\": \"HBA\",\n      \"properties\": {\n        \"dtype\": \"number\",\n        \"std\": 1,\n        \"min\": 0,\n        \"max\": 11,\n        \"num_unique_values\": 10,\n        \"samples\": [\n          11,\n          3,\n          1\n        ],\n        \"semantic_type\": \"\",\n        \"description\": \"\"\n      }\n    },\n    {\n      \"column\": \"TPSA\",\n      \"properties\": {\n        \"dtype\": \"number\",\n        \"std\": 50.63308732758879,\n        \"min\": 0.0,\n        \"max\": 300.76,\n        \"num_unique_values\": 63,\n        \"samples\": [\n          38.33,\n          52.04,\n          43.14\n        ],\n        \"semantic_type\": \"\",\n        \"description\": \"\"\n      }\n    }\n  ]\n}"
            }
          },
          "metadata": {},
          "execution_count": 35
        }
      ]
    },
    {
      "cell_type": "code",
      "source": [
        "df.shape # number of molecules in original df"
      ],
      "metadata": {
        "colab": {
          "base_uri": "https://localhost:8080/"
        },
        "id": "PedGaAu9_GJO",
        "outputId": "a88a364e-85a6-42be-8d8c-0cd6583c44e8"
      },
      "execution_count": null,
      "outputs": [
        {
          "output_type": "execute_result",
          "data": {
            "text/plain": [
              "(100, 6)"
            ]
          },
          "metadata": {},
          "execution_count": 37
        }
      ]
    },
    {
      "cell_type": "markdown",
      "source": [
        "### Now apply the filtering criteria defined above"
      ],
      "metadata": {
        "id": "q0Gl_30ZFNXN"
      }
    },
    {
      "cell_type": "code",
      "source": [
        "# Apply filtering criteria\n",
        "filtered_df = df[\n",
        "    (df['MolWt'] <= 150) &\n",
        "    (df['LogP'] >= -1) & (df['LogP'] <= 5) &\n",
        "    (df['HBD'] <= 5) &\n",
        "    (df['HBA'] <= 10) &\n",
        "    (df['TPSA'] <= 140)\n",
        "]"
      ],
      "metadata": {
        "id": "oaX_ssWq06CC"
      },
      "execution_count": null,
      "outputs": []
    },
    {
      "cell_type": "code",
      "source": [
        "filtered_df"
      ],
      "metadata": {
        "colab": {
          "base_uri": "https://localhost:8080/",
          "height": 1000
        },
        "id": "tS_GyxS91pT8",
        "outputId": "0e846b67-eb13-48d1-fbc6-d66c60ef8ee6"
      },
      "execution_count": null,
      "outputs": [
        {
          "output_type": "execute_result",
          "data": {
            "text/plain": [
              "                        SMILES    MolWt     LogP  HBD  HBA   TPSA\n",
              "3   NC1=CC=C(C=C1)[N+]([O-])=O  138.126  1.17700    1    3  69.16\n",
              "4   OC1=CC=C(C=C1)[N+]([O-])=O  139.110  1.30040    1    3  63.37\n",
              "5                CC1=CC(=O)NO1   99.089  0.27632    1    2  46.00\n",
              "7        CN(C)C1=CC=C(C=O)C=C1  149.193  1.56510    0    2  20.31\n",
              "34                  CCN(CC)CCN  116.208  0.28690    1    2  29.26\n",
              "35                  CCN(CC)CCO  117.192  0.32050    1    2  23.47\n",
              "38                C=CC1CCC=CC1  108.184  2.52870    0    0   0.00\n",
              "39               CCC1=CC=CC=C1  106.168  2.24900    0    0   0.00\n",
              "40              C=CC1=CC=CC=C1  104.152  2.32960    0    0   0.00\n",
              "44              C=CC1=CC=NC=C1  105.140  1.72460    0    1  12.89\n",
              "45              ClCC1=CC=CC=C1  126.586  2.42540    0    0   0.00\n",
              "46               NCC1=CC=CC=C1  107.156  1.14530    1    1  26.02\n",
              "47              N#CC1=CC=CC=C1  103.124  1.55828    0    1  23.79\n",
              "48              N#CC1=CC=NC=C1  104.112  0.95328    0    2  36.68\n",
              "50                O=CC1CCC=CC1  110.156  1.54160    0    1  17.07\n",
              "51               OCC1=CC=CC=C1  108.140  1.17890    1    1  20.23\n",
              "53              O=CC1=CC=CC=C1  106.124  1.49910    0    1  17.07\n",
              "54               SCC1=CC=CC=C1  124.208  2.11640    1    1   0.00\n",
              "55              N#CC1=CN=CC=C1  104.112  0.95328    0    2  36.68\n",
              "56               OCC1=CC=CN=C1  109.128  0.57390    1    2  33.12\n",
              "58                  ClC\\C=C/Cl  110.971  1.97770    0    0   0.00\n",
              "59               CNC1=CC=CC=C1  107.156  1.72830    1    1  12.03\n",
              "60               NNC1=CC=CC=C1  108.144  0.97220    2    2  38.05\n",
              "61                 ON=C1CCCCC1  113.160  1.78070    1    2  32.59\n",
              "63               ONC1=CC=CC=C1  109.128  1.48770    2    2  32.26\n",
              "65              C=CC1=CC=CC=N1  105.140  1.72460    0    1  12.89\n",
              "66              N#CC1=NC=CC=C1  104.112  0.95328    0    2  36.68\n",
              "68                  CCN1CCOCC1  115.176  0.33850    0    2  12.47\n",
              "69                 O=NN1CCCCC1  114.148  1.15370    0    2  32.67\n",
              "70                C1CN2CCC1CC2  111.188  1.10210    0    1   3.24\n",
              "72           CC1=CC(C=C)=CC=C1  118.179  2.63802    0    0   0.00"
            ],
            "text/html": [
              "\n",
              "  <div id=\"df-6ff4d385-c957-4e2f-8a50-3e06f646088a\" class=\"colab-df-container\">\n",
              "    <div>\n",
              "<style scoped>\n",
              "    .dataframe tbody tr th:only-of-type {\n",
              "        vertical-align: middle;\n",
              "    }\n",
              "\n",
              "    .dataframe tbody tr th {\n",
              "        vertical-align: top;\n",
              "    }\n",
              "\n",
              "    .dataframe thead th {\n",
              "        text-align: right;\n",
              "    }\n",
              "</style>\n",
              "<table border=\"1\" class=\"dataframe\">\n",
              "  <thead>\n",
              "    <tr style=\"text-align: right;\">\n",
              "      <th></th>\n",
              "      <th>SMILES</th>\n",
              "      <th>MolWt</th>\n",
              "      <th>LogP</th>\n",
              "      <th>HBD</th>\n",
              "      <th>HBA</th>\n",
              "      <th>TPSA</th>\n",
              "    </tr>\n",
              "  </thead>\n",
              "  <tbody>\n",
              "    <tr>\n",
              "      <th>3</th>\n",
              "      <td>NC1=CC=C(C=C1)[N+]([O-])=O</td>\n",
              "      <td>138.126</td>\n",
              "      <td>1.17700</td>\n",
              "      <td>1</td>\n",
              "      <td>3</td>\n",
              "      <td>69.16</td>\n",
              "    </tr>\n",
              "    <tr>\n",
              "      <th>4</th>\n",
              "      <td>OC1=CC=C(C=C1)[N+]([O-])=O</td>\n",
              "      <td>139.110</td>\n",
              "      <td>1.30040</td>\n",
              "      <td>1</td>\n",
              "      <td>3</td>\n",
              "      <td>63.37</td>\n",
              "    </tr>\n",
              "    <tr>\n",
              "      <th>5</th>\n",
              "      <td>CC1=CC(=O)NO1</td>\n",
              "      <td>99.089</td>\n",
              "      <td>0.27632</td>\n",
              "      <td>1</td>\n",
              "      <td>2</td>\n",
              "      <td>46.00</td>\n",
              "    </tr>\n",
              "    <tr>\n",
              "      <th>7</th>\n",
              "      <td>CN(C)C1=CC=C(C=O)C=C1</td>\n",
              "      <td>149.193</td>\n",
              "      <td>1.56510</td>\n",
              "      <td>0</td>\n",
              "      <td>2</td>\n",
              "      <td>20.31</td>\n",
              "    </tr>\n",
              "    <tr>\n",
              "      <th>34</th>\n",
              "      <td>CCN(CC)CCN</td>\n",
              "      <td>116.208</td>\n",
              "      <td>0.28690</td>\n",
              "      <td>1</td>\n",
              "      <td>2</td>\n",
              "      <td>29.26</td>\n",
              "    </tr>\n",
              "    <tr>\n",
              "      <th>35</th>\n",
              "      <td>CCN(CC)CCO</td>\n",
              "      <td>117.192</td>\n",
              "      <td>0.32050</td>\n",
              "      <td>1</td>\n",
              "      <td>2</td>\n",
              "      <td>23.47</td>\n",
              "    </tr>\n",
              "    <tr>\n",
              "      <th>38</th>\n",
              "      <td>C=CC1CCC=CC1</td>\n",
              "      <td>108.184</td>\n",
              "      <td>2.52870</td>\n",
              "      <td>0</td>\n",
              "      <td>0</td>\n",
              "      <td>0.00</td>\n",
              "    </tr>\n",
              "    <tr>\n",
              "      <th>39</th>\n",
              "      <td>CCC1=CC=CC=C1</td>\n",
              "      <td>106.168</td>\n",
              "      <td>2.24900</td>\n",
              "      <td>0</td>\n",
              "      <td>0</td>\n",
              "      <td>0.00</td>\n",
              "    </tr>\n",
              "    <tr>\n",
              "      <th>40</th>\n",
              "      <td>C=CC1=CC=CC=C1</td>\n",
              "      <td>104.152</td>\n",
              "      <td>2.32960</td>\n",
              "      <td>0</td>\n",
              "      <td>0</td>\n",
              "      <td>0.00</td>\n",
              "    </tr>\n",
              "    <tr>\n",
              "      <th>44</th>\n",
              "      <td>C=CC1=CC=NC=C1</td>\n",
              "      <td>105.140</td>\n",
              "      <td>1.72460</td>\n",
              "      <td>0</td>\n",
              "      <td>1</td>\n",
              "      <td>12.89</td>\n",
              "    </tr>\n",
              "    <tr>\n",
              "      <th>45</th>\n",
              "      <td>ClCC1=CC=CC=C1</td>\n",
              "      <td>126.586</td>\n",
              "      <td>2.42540</td>\n",
              "      <td>0</td>\n",
              "      <td>0</td>\n",
              "      <td>0.00</td>\n",
              "    </tr>\n",
              "    <tr>\n",
              "      <th>46</th>\n",
              "      <td>NCC1=CC=CC=C1</td>\n",
              "      <td>107.156</td>\n",
              "      <td>1.14530</td>\n",
              "      <td>1</td>\n",
              "      <td>1</td>\n",
              "      <td>26.02</td>\n",
              "    </tr>\n",
              "    <tr>\n",
              "      <th>47</th>\n",
              "      <td>N#CC1=CC=CC=C1</td>\n",
              "      <td>103.124</td>\n",
              "      <td>1.55828</td>\n",
              "      <td>0</td>\n",
              "      <td>1</td>\n",
              "      <td>23.79</td>\n",
              "    </tr>\n",
              "    <tr>\n",
              "      <th>48</th>\n",
              "      <td>N#CC1=CC=NC=C1</td>\n",
              "      <td>104.112</td>\n",
              "      <td>0.95328</td>\n",
              "      <td>0</td>\n",
              "      <td>2</td>\n",
              "      <td>36.68</td>\n",
              "    </tr>\n",
              "    <tr>\n",
              "      <th>50</th>\n",
              "      <td>O=CC1CCC=CC1</td>\n",
              "      <td>110.156</td>\n",
              "      <td>1.54160</td>\n",
              "      <td>0</td>\n",
              "      <td>1</td>\n",
              "      <td>17.07</td>\n",
              "    </tr>\n",
              "    <tr>\n",
              "      <th>51</th>\n",
              "      <td>OCC1=CC=CC=C1</td>\n",
              "      <td>108.140</td>\n",
              "      <td>1.17890</td>\n",
              "      <td>1</td>\n",
              "      <td>1</td>\n",
              "      <td>20.23</td>\n",
              "    </tr>\n",
              "    <tr>\n",
              "      <th>53</th>\n",
              "      <td>O=CC1=CC=CC=C1</td>\n",
              "      <td>106.124</td>\n",
              "      <td>1.49910</td>\n",
              "      <td>0</td>\n",
              "      <td>1</td>\n",
              "      <td>17.07</td>\n",
              "    </tr>\n",
              "    <tr>\n",
              "      <th>54</th>\n",
              "      <td>SCC1=CC=CC=C1</td>\n",
              "      <td>124.208</td>\n",
              "      <td>2.11640</td>\n",
              "      <td>1</td>\n",
              "      <td>1</td>\n",
              "      <td>0.00</td>\n",
              "    </tr>\n",
              "    <tr>\n",
              "      <th>55</th>\n",
              "      <td>N#CC1=CN=CC=C1</td>\n",
              "      <td>104.112</td>\n",
              "      <td>0.95328</td>\n",
              "      <td>0</td>\n",
              "      <td>2</td>\n",
              "      <td>36.68</td>\n",
              "    </tr>\n",
              "    <tr>\n",
              "      <th>56</th>\n",
              "      <td>OCC1=CC=CN=C1</td>\n",
              "      <td>109.128</td>\n",
              "      <td>0.57390</td>\n",
              "      <td>1</td>\n",
              "      <td>2</td>\n",
              "      <td>33.12</td>\n",
              "    </tr>\n",
              "    <tr>\n",
              "      <th>58</th>\n",
              "      <td>ClC\\C=C/Cl</td>\n",
              "      <td>110.971</td>\n",
              "      <td>1.97770</td>\n",
              "      <td>0</td>\n",
              "      <td>0</td>\n",
              "      <td>0.00</td>\n",
              "    </tr>\n",
              "    <tr>\n",
              "      <th>59</th>\n",
              "      <td>CNC1=CC=CC=C1</td>\n",
              "      <td>107.156</td>\n",
              "      <td>1.72830</td>\n",
              "      <td>1</td>\n",
              "      <td>1</td>\n",
              "      <td>12.03</td>\n",
              "    </tr>\n",
              "    <tr>\n",
              "      <th>60</th>\n",
              "      <td>NNC1=CC=CC=C1</td>\n",
              "      <td>108.144</td>\n",
              "      <td>0.97220</td>\n",
              "      <td>2</td>\n",
              "      <td>2</td>\n",
              "      <td>38.05</td>\n",
              "    </tr>\n",
              "    <tr>\n",
              "      <th>61</th>\n",
              "      <td>ON=C1CCCCC1</td>\n",
              "      <td>113.160</td>\n",
              "      <td>1.78070</td>\n",
              "      <td>1</td>\n",
              "      <td>2</td>\n",
              "      <td>32.59</td>\n",
              "    </tr>\n",
              "    <tr>\n",
              "      <th>63</th>\n",
              "      <td>ONC1=CC=CC=C1</td>\n",
              "      <td>109.128</td>\n",
              "      <td>1.48770</td>\n",
              "      <td>2</td>\n",
              "      <td>2</td>\n",
              "      <td>32.26</td>\n",
              "    </tr>\n",
              "    <tr>\n",
              "      <th>65</th>\n",
              "      <td>C=CC1=CC=CC=N1</td>\n",
              "      <td>105.140</td>\n",
              "      <td>1.72460</td>\n",
              "      <td>0</td>\n",
              "      <td>1</td>\n",
              "      <td>12.89</td>\n",
              "    </tr>\n",
              "    <tr>\n",
              "      <th>66</th>\n",
              "      <td>N#CC1=NC=CC=C1</td>\n",
              "      <td>104.112</td>\n",
              "      <td>0.95328</td>\n",
              "      <td>0</td>\n",
              "      <td>2</td>\n",
              "      <td>36.68</td>\n",
              "    </tr>\n",
              "    <tr>\n",
              "      <th>68</th>\n",
              "      <td>CCN1CCOCC1</td>\n",
              "      <td>115.176</td>\n",
              "      <td>0.33850</td>\n",
              "      <td>0</td>\n",
              "      <td>2</td>\n",
              "      <td>12.47</td>\n",
              "    </tr>\n",
              "    <tr>\n",
              "      <th>69</th>\n",
              "      <td>O=NN1CCCCC1</td>\n",
              "      <td>114.148</td>\n",
              "      <td>1.15370</td>\n",
              "      <td>0</td>\n",
              "      <td>2</td>\n",
              "      <td>32.67</td>\n",
              "    </tr>\n",
              "    <tr>\n",
              "      <th>70</th>\n",
              "      <td>C1CN2CCC1CC2</td>\n",
              "      <td>111.188</td>\n",
              "      <td>1.10210</td>\n",
              "      <td>0</td>\n",
              "      <td>1</td>\n",
              "      <td>3.24</td>\n",
              "    </tr>\n",
              "    <tr>\n",
              "      <th>72</th>\n",
              "      <td>CC1=CC(C=C)=CC=C1</td>\n",
              "      <td>118.179</td>\n",
              "      <td>2.63802</td>\n",
              "      <td>0</td>\n",
              "      <td>0</td>\n",
              "      <td>0.00</td>\n",
              "    </tr>\n",
              "  </tbody>\n",
              "</table>\n",
              "</div>\n",
              "    <div class=\"colab-df-buttons\">\n",
              "\n",
              "  <div class=\"colab-df-container\">\n",
              "    <button class=\"colab-df-convert\" onclick=\"convertToInteractive('df-6ff4d385-c957-4e2f-8a50-3e06f646088a')\"\n",
              "            title=\"Convert this dataframe to an interactive table.\"\n",
              "            style=\"display:none;\">\n",
              "\n",
              "  <svg xmlns=\"http://www.w3.org/2000/svg\" height=\"24px\" viewBox=\"0 -960 960 960\">\n",
              "    <path d=\"M120-120v-720h720v720H120Zm60-500h600v-160H180v160Zm220 220h160v-160H400v160Zm0 220h160v-160H400v160ZM180-400h160v-160H180v160Zm440 0h160v-160H620v160ZM180-180h160v-160H180v160Zm440 0h160v-160H620v160Z\"/>\n",
              "  </svg>\n",
              "    </button>\n",
              "\n",
              "  <style>\n",
              "    .colab-df-container {\n",
              "      display:flex;\n",
              "      gap: 12px;\n",
              "    }\n",
              "\n",
              "    .colab-df-convert {\n",
              "      background-color: #E8F0FE;\n",
              "      border: none;\n",
              "      border-radius: 50%;\n",
              "      cursor: pointer;\n",
              "      display: none;\n",
              "      fill: #1967D2;\n",
              "      height: 32px;\n",
              "      padding: 0 0 0 0;\n",
              "      width: 32px;\n",
              "    }\n",
              "\n",
              "    .colab-df-convert:hover {\n",
              "      background-color: #E2EBFA;\n",
              "      box-shadow: 0px 1px 2px rgba(60, 64, 67, 0.3), 0px 1px 3px 1px rgba(60, 64, 67, 0.15);\n",
              "      fill: #174EA6;\n",
              "    }\n",
              "\n",
              "    .colab-df-buttons div {\n",
              "      margin-bottom: 4px;\n",
              "    }\n",
              "\n",
              "    [theme=dark] .colab-df-convert {\n",
              "      background-color: #3B4455;\n",
              "      fill: #D2E3FC;\n",
              "    }\n",
              "\n",
              "    [theme=dark] .colab-df-convert:hover {\n",
              "      background-color: #434B5C;\n",
              "      box-shadow: 0px 1px 3px 1px rgba(0, 0, 0, 0.15);\n",
              "      filter: drop-shadow(0px 1px 2px rgba(0, 0, 0, 0.3));\n",
              "      fill: #FFFFFF;\n",
              "    }\n",
              "  </style>\n",
              "\n",
              "    <script>\n",
              "      const buttonEl =\n",
              "        document.querySelector('#df-6ff4d385-c957-4e2f-8a50-3e06f646088a button.colab-df-convert');\n",
              "      buttonEl.style.display =\n",
              "        google.colab.kernel.accessAllowed ? 'block' : 'none';\n",
              "\n",
              "      async function convertToInteractive(key) {\n",
              "        const element = document.querySelector('#df-6ff4d385-c957-4e2f-8a50-3e06f646088a');\n",
              "        const dataTable =\n",
              "          await google.colab.kernel.invokeFunction('convertToInteractive',\n",
              "                                                    [key], {});\n",
              "        if (!dataTable) return;\n",
              "\n",
              "        const docLinkHtml = 'Like what you see? Visit the ' +\n",
              "          '<a target=\"_blank\" href=https://colab.research.google.com/notebooks/data_table.ipynb>data table notebook</a>'\n",
              "          + ' to learn more about interactive tables.';\n",
              "        element.innerHTML = '';\n",
              "        dataTable['output_type'] = 'display_data';\n",
              "        await google.colab.output.renderOutput(dataTable, element);\n",
              "        const docLink = document.createElement('div');\n",
              "        docLink.innerHTML = docLinkHtml;\n",
              "        element.appendChild(docLink);\n",
              "      }\n",
              "    </script>\n",
              "  </div>\n",
              "\n",
              "\n",
              "    <div id=\"df-fce42b4c-e0a1-4dab-821d-1a9aa02ad855\">\n",
              "      <button class=\"colab-df-quickchart\" onclick=\"quickchart('df-fce42b4c-e0a1-4dab-821d-1a9aa02ad855')\"\n",
              "                title=\"Suggest charts\"\n",
              "                style=\"display:none;\">\n",
              "\n",
              "<svg xmlns=\"http://www.w3.org/2000/svg\" height=\"24px\"viewBox=\"0 0 24 24\"\n",
              "     width=\"24px\">\n",
              "    <g>\n",
              "        <path d=\"M19 3H5c-1.1 0-2 .9-2 2v14c0 1.1.9 2 2 2h14c1.1 0 2-.9 2-2V5c0-1.1-.9-2-2-2zM9 17H7v-7h2v7zm4 0h-2V7h2v10zm4 0h-2v-4h2v4z\"/>\n",
              "    </g>\n",
              "</svg>\n",
              "      </button>\n",
              "\n",
              "<style>\n",
              "  .colab-df-quickchart {\n",
              "      --bg-color: #E8F0FE;\n",
              "      --fill-color: #1967D2;\n",
              "      --hover-bg-color: #E2EBFA;\n",
              "      --hover-fill-color: #174EA6;\n",
              "      --disabled-fill-color: #AAA;\n",
              "      --disabled-bg-color: #DDD;\n",
              "  }\n",
              "\n",
              "  [theme=dark] .colab-df-quickchart {\n",
              "      --bg-color: #3B4455;\n",
              "      --fill-color: #D2E3FC;\n",
              "      --hover-bg-color: #434B5C;\n",
              "      --hover-fill-color: #FFFFFF;\n",
              "      --disabled-bg-color: #3B4455;\n",
              "      --disabled-fill-color: #666;\n",
              "  }\n",
              "\n",
              "  .colab-df-quickchart {\n",
              "    background-color: var(--bg-color);\n",
              "    border: none;\n",
              "    border-radius: 50%;\n",
              "    cursor: pointer;\n",
              "    display: none;\n",
              "    fill: var(--fill-color);\n",
              "    height: 32px;\n",
              "    padding: 0;\n",
              "    width: 32px;\n",
              "  }\n",
              "\n",
              "  .colab-df-quickchart:hover {\n",
              "    background-color: var(--hover-bg-color);\n",
              "    box-shadow: 0 1px 2px rgba(60, 64, 67, 0.3), 0 1px 3px 1px rgba(60, 64, 67, 0.15);\n",
              "    fill: var(--button-hover-fill-color);\n",
              "  }\n",
              "\n",
              "  .colab-df-quickchart-complete:disabled,\n",
              "  .colab-df-quickchart-complete:disabled:hover {\n",
              "    background-color: var(--disabled-bg-color);\n",
              "    fill: var(--disabled-fill-color);\n",
              "    box-shadow: none;\n",
              "  }\n",
              "\n",
              "  .colab-df-spinner {\n",
              "    border: 2px solid var(--fill-color);\n",
              "    border-color: transparent;\n",
              "    border-bottom-color: var(--fill-color);\n",
              "    animation:\n",
              "      spin 1s steps(1) infinite;\n",
              "  }\n",
              "\n",
              "  @keyframes spin {\n",
              "    0% {\n",
              "      border-color: transparent;\n",
              "      border-bottom-color: var(--fill-color);\n",
              "      border-left-color: var(--fill-color);\n",
              "    }\n",
              "    20% {\n",
              "      border-color: transparent;\n",
              "      border-left-color: var(--fill-color);\n",
              "      border-top-color: var(--fill-color);\n",
              "    }\n",
              "    30% {\n",
              "      border-color: transparent;\n",
              "      border-left-color: var(--fill-color);\n",
              "      border-top-color: var(--fill-color);\n",
              "      border-right-color: var(--fill-color);\n",
              "    }\n",
              "    40% {\n",
              "      border-color: transparent;\n",
              "      border-right-color: var(--fill-color);\n",
              "      border-top-color: var(--fill-color);\n",
              "    }\n",
              "    60% {\n",
              "      border-color: transparent;\n",
              "      border-right-color: var(--fill-color);\n",
              "    }\n",
              "    80% {\n",
              "      border-color: transparent;\n",
              "      border-right-color: var(--fill-color);\n",
              "      border-bottom-color: var(--fill-color);\n",
              "    }\n",
              "    90% {\n",
              "      border-color: transparent;\n",
              "      border-bottom-color: var(--fill-color);\n",
              "    }\n",
              "  }\n",
              "</style>\n",
              "\n",
              "      <script>\n",
              "        async function quickchart(key) {\n",
              "          const quickchartButtonEl =\n",
              "            document.querySelector('#' + key + ' button');\n",
              "          quickchartButtonEl.disabled = true;  // To prevent multiple clicks.\n",
              "          quickchartButtonEl.classList.add('colab-df-spinner');\n",
              "          try {\n",
              "            const charts = await google.colab.kernel.invokeFunction(\n",
              "                'suggestCharts', [key], {});\n",
              "          } catch (error) {\n",
              "            console.error('Error during call to suggestCharts:', error);\n",
              "          }\n",
              "          quickchartButtonEl.classList.remove('colab-df-spinner');\n",
              "          quickchartButtonEl.classList.add('colab-df-quickchart-complete');\n",
              "        }\n",
              "        (() => {\n",
              "          let quickchartButtonEl =\n",
              "            document.querySelector('#df-fce42b4c-e0a1-4dab-821d-1a9aa02ad855 button');\n",
              "          quickchartButtonEl.style.display =\n",
              "            google.colab.kernel.accessAllowed ? 'block' : 'none';\n",
              "        })();\n",
              "      </script>\n",
              "    </div>\n",
              "\n",
              "  <div id=\"id_7c8b8acd-4b34-4a81-8ebb-ae1a66fcb2c2\">\n",
              "    <style>\n",
              "      .colab-df-generate {\n",
              "        background-color: #E8F0FE;\n",
              "        border: none;\n",
              "        border-radius: 50%;\n",
              "        cursor: pointer;\n",
              "        display: none;\n",
              "        fill: #1967D2;\n",
              "        height: 32px;\n",
              "        padding: 0 0 0 0;\n",
              "        width: 32px;\n",
              "      }\n",
              "\n",
              "      .colab-df-generate:hover {\n",
              "        background-color: #E2EBFA;\n",
              "        box-shadow: 0px 1px 2px rgba(60, 64, 67, 0.3), 0px 1px 3px 1px rgba(60, 64, 67, 0.15);\n",
              "        fill: #174EA6;\n",
              "      }\n",
              "\n",
              "      [theme=dark] .colab-df-generate {\n",
              "        background-color: #3B4455;\n",
              "        fill: #D2E3FC;\n",
              "      }\n",
              "\n",
              "      [theme=dark] .colab-df-generate:hover {\n",
              "        background-color: #434B5C;\n",
              "        box-shadow: 0px 1px 3px 1px rgba(0, 0, 0, 0.15);\n",
              "        filter: drop-shadow(0px 1px 2px rgba(0, 0, 0, 0.3));\n",
              "        fill: #FFFFFF;\n",
              "      }\n",
              "    </style>\n",
              "    <button class=\"colab-df-generate\" onclick=\"generateWithVariable('filtered_df')\"\n",
              "            title=\"Generate code using this dataframe.\"\n",
              "            style=\"display:none;\">\n",
              "\n",
              "  <svg xmlns=\"http://www.w3.org/2000/svg\" height=\"24px\"viewBox=\"0 0 24 24\"\n",
              "       width=\"24px\">\n",
              "    <path d=\"M7,19H8.4L18.45,9,17,7.55,7,17.6ZM5,21V16.75L18.45,3.32a2,2,0,0,1,2.83,0l1.4,1.43a1.91,1.91,0,0,1,.58,1.4,1.91,1.91,0,0,1-.58,1.4L9.25,21ZM18.45,9,17,7.55Zm-12,3A5.31,5.31,0,0,0,4.9,8.1,5.31,5.31,0,0,0,1,6.5,5.31,5.31,0,0,0,4.9,4.9,5.31,5.31,0,0,0,6.5,1,5.31,5.31,0,0,0,8.1,4.9,5.31,5.31,0,0,0,12,6.5,5.46,5.46,0,0,0,6.5,12Z\"/>\n",
              "  </svg>\n",
              "    </button>\n",
              "    <script>\n",
              "      (() => {\n",
              "      const buttonEl =\n",
              "        document.querySelector('#id_7c8b8acd-4b34-4a81-8ebb-ae1a66fcb2c2 button.colab-df-generate');\n",
              "      buttonEl.style.display =\n",
              "        google.colab.kernel.accessAllowed ? 'block' : 'none';\n",
              "\n",
              "      buttonEl.onclick = () => {\n",
              "        google.colab.notebook.generateWithVariable('filtered_df');\n",
              "      }\n",
              "      })();\n",
              "    </script>\n",
              "  </div>\n",
              "\n",
              "    </div>\n",
              "  </div>\n"
            ],
            "application/vnd.google.colaboratory.intrinsic+json": {
              "type": "dataframe",
              "variable_name": "filtered_df",
              "summary": "{\n  \"name\": \"filtered_df\",\n  \"rows\": 31,\n  \"fields\": [\n    {\n      \"column\": \"SMILES\",\n      \"properties\": {\n        \"dtype\": \"string\",\n        \"num_unique_values\": 31,\n        \"samples\": [\n          \"CCN1CCOCC1\",\n          \"OCC1=CC=CC=C1\",\n          \"ON=C1CCCCC1\"\n        ],\n        \"semantic_type\": \"\",\n        \"description\": \"\"\n      }\n    },\n    {\n      \"column\": \"MolWt\",\n      \"properties\": {\n        \"dtype\": \"number\",\n        \"std\": 11.549778055866916,\n        \"min\": 99.089,\n        \"max\": 149.19299999999998,\n        \"num_unique_values\": 29,\n        \"samples\": [\n          111.18799999999999,\n          106.12399999999997,\n          103.12399999999997\n        ],\n        \"semantic_type\": \"\",\n        \"description\": \"\"\n      }\n    },\n    {\n      \"column\": \"LogP\",\n      \"properties\": {\n        \"dtype\": \"number\",\n        \"std\": 0.6689097826473241,\n        \"min\": 0.27631999999999995,\n        \"max\": 2.638020000000001,\n        \"num_unique_values\": 29,\n        \"samples\": [\n          1.1021,\n          1.4990999999999999,\n          1.5582799999999999\n        ],\n        \"semantic_type\": \"\",\n        \"description\": \"\"\n      }\n    },\n    {\n      \"column\": \"HBD\",\n      \"properties\": {\n        \"dtype\": \"number\",\n        \"std\": 0,\n        \"min\": 0,\n        \"max\": 2,\n        \"num_unique_values\": 3,\n        \"samples\": [\n          1,\n          0,\n          2\n        ],\n        \"semantic_type\": \"\",\n        \"description\": \"\"\n      }\n    },\n    {\n      \"column\": \"HBA\",\n      \"properties\": {\n        \"dtype\": \"number\",\n        \"std\": 0,\n        \"min\": 0,\n        \"max\": 3,\n        \"num_unique_values\": 4,\n        \"samples\": [\n          2,\n          1,\n          3\n        ],\n        \"semantic_type\": \"\",\n        \"description\": \"\"\n      }\n    },\n    {\n      \"column\": \"TPSA\",\n      \"properties\": {\n        \"dtype\": \"number\",\n        \"std\": 18.343377832955976,\n        \"min\": 0.0,\n        \"max\": 69.16,\n        \"num_unique_values\": 21,\n        \"samples\": [\n          69.16,\n          32.26,\n          38.05\n        ],\n        \"semantic_type\": \"\",\n        \"description\": \"\"\n      }\n    }\n  ]\n}"
            }
          },
          "metadata": {},
          "execution_count": 39
        }
      ]
    },
    {
      "cell_type": "markdown",
      "source": [
        "We can find the number of molecules that satisfy the given condition by checking the shape of the filtered df:"
      ],
      "metadata": {
        "id": "lvy4-ioVDCCw"
      }
    },
    {
      "cell_type": "code",
      "source": [
        "filtered_df.shape"
      ],
      "metadata": {
        "colab": {
          "base_uri": "https://localhost:8080/"
        },
        "id": "Q3OiJLs9KkP_",
        "outputId": "84b61361-ab32-48e0-880e-5c3749f16358"
      },
      "execution_count": null,
      "outputs": [
        {
          "output_type": "execute_result",
          "data": {
            "text/plain": [
              "(31, 6)"
            ]
          },
          "metadata": {},
          "execution_count": 17
        }
      ]
    },
    {
      "cell_type": "markdown",
      "source": [
        "### So as you can see only 31 molecules of the 100 molecules in df satisfied the given condition"
      ],
      "metadata": {
        "id": "CDDymP2nEr0c"
      }
    }
  ],
  "metadata": {
    "colab": {
      "provenance": [],
      "include_colab_link": true
    },
    "kernelspec": {
      "display_name": "Python 3",
      "name": "python3"
    },
    "language_info": {
      "name": "python"
    }
  },
  "nbformat": 4,
  "nbformat_minor": 0
}
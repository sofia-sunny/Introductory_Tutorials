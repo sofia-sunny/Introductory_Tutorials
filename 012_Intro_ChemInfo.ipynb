{
  "nbformat": 4,
  "nbformat_minor": 0,
  "metadata": {
    "colab": {
      "provenance": [],
      "include_colab_link": true
    },
    "kernelspec": {
      "name": "python3",
      "display_name": "Python 3"
    },
    "language_info": {
      "name": "python"
    }
  },
  "cells": [
    {
      "cell_type": "markdown",
      "metadata": {
        "id": "view-in-github",
        "colab_type": "text"
      },
      "source": [
        "<a href=\"https://colab.research.google.com/github/sofia-sunny/Introductory_Tutorials/blob/main/012_Intro_ChemInfo.ipynb\" target=\"_parent\"><img src=\"https://colab.research.google.com/assets/colab-badge.svg\" alt=\"Open In Colab\"/></a>"
      ]
    },
    {
      "cell_type": "markdown",
      "source": [
        "## **Short Introduction to RDKit, SMILES and Mol object**\n",
        "\n",
        "In this notebook, we work with **RDKit**, a powerful Python library for working with chemical data; **SMILES**, a widely used text-based format for representing molecules; and **Mol** objects, RDKit’s internal representation of molecular structures. Understanding how to create and use these representations is essential for visualizing molecules, analyzing structures, and performing cheminformatics tasks.\n"
      ],
      "metadata": {
        "id": "P3cGFH2P0qpF"
      }
    },
    {
      "cell_type": "markdown",
      "source": [
        "###**RDKit**\n",
        "\n",
        "RDKit is an open-source toolkit for cheminformatics. It provides a suite of tools for cheminformatics, computational chemistry, and molecular modeling.To install the RDKit:"
      ],
      "metadata": {
        "id": "C9W8ycV-ZqXY"
      }
    },
    {
      "cell_type": "code",
      "source": [
        "# Install RDKit (if not already installed)\n",
        "!pip install rdkit"
      ],
      "metadata": {
        "id": "zjks8c7Q1Qkg",
        "colab": {
          "base_uri": "https://localhost:8080/"
        },
        "outputId": "f25c02ef-156b-4253-bf45-26ff543c8e03"
      },
      "execution_count": null,
      "outputs": [
        {
          "output_type": "stream",
          "name": "stdout",
          "text": [
            "Collecting rdkit\n",
            "  Downloading rdkit-2025.3.2-cp311-cp311-manylinux_2_28_x86_64.whl.metadata (4.0 kB)\n",
            "Requirement already satisfied: numpy in /usr/local/lib/python3.11/dist-packages (from rdkit) (2.0.2)\n",
            "Requirement already satisfied: Pillow in /usr/local/lib/python3.11/dist-packages (from rdkit) (11.2.1)\n",
            "Downloading rdkit-2025.3.2-cp311-cp311-manylinux_2_28_x86_64.whl (35.2 MB)\n",
            "\u001b[2K   \u001b[90m━━━━━━━━━━━━━━━━━━━━━━━━━━━━━━━━━━━━━━━━\u001b[0m \u001b[32m35.2/35.2 MB\u001b[0m \u001b[31m19.7 MB/s\u001b[0m eta \u001b[36m0:00:00\u001b[0m\n",
            "\u001b[?25hInstalling collected packages: rdkit\n",
            "Successfully installed rdkit-2025.3.2\n"
          ]
        }
      ]
    },
    {
      "cell_type": "markdown",
      "source": [
        "### **Molecular Representation**"
      ],
      "metadata": {
        "id": "NL5pTgJvdnP-"
      }
    },
    {
      "cell_type": "markdown",
      "source": [
        "###**SMILES**\n",
        "\n",
        "[SMILES](https://www.daylight.com/dayhtml/doc/theory/theory.smiles.html) (Simplified Molecular Input Line Entry System) is a linear representation of the chemical structure, where atoms are represented by their chemical symbols, and bonds are represented by specific characters.\n",
        "Example SMILES Notations:\n",
        "\n",
        "* Methane: C\n",
        "\n",
        "* Ethanol: CCO\n",
        "\n",
        "* Benzene: c1ccccc1\n",
        "\n",
        "* Aspirin: CC(=O)OC1=CC=CC=C1C(=O)O"
      ],
      "metadata": {
        "id": "sp-mKrHhAjn0"
      }
    },
    {
      "cell_type": "markdown",
      "source": [
        "###**Now Let import some RDKit modules.**\n",
        "\n",
        "The **rdkit.Chem** module  offers functionalities for handling chemical molecules, including reading and writing molecular formats, manipulating molecular structures, calculating molecular descriptors, and performing substructure searches.\n"
      ],
      "metadata": {
        "id": "jCRlsASUsOw1"
      }
    },
    {
      "cell_type": "code",
      "source": [
        "# Import Chem libraries\n",
        "from rdkit import Chem"
      ],
      "metadata": {
        "id": "9Fa1nuaupSvJ"
      },
      "execution_count": null,
      "outputs": []
    },
    {
      "cell_type": "markdown",
      "source": [
        "### **1. Converting and Visualizing a Single Molecule using SMILES**"
      ],
      "metadata": {
        "id": "9HnfekMZrXI3"
      }
    },
    {
      "cell_type": "code",
      "source": [
        "# Example SMILES string\n",
        "smiles = \"CCO\"  # Ethanol"
      ],
      "metadata": {
        "id": "J3WmqRR2ynKU"
      },
      "execution_count": null,
      "outputs": []
    },
    {
      "cell_type": "markdown",
      "source": [
        "### **Chem.MolFromSmiles Function:**\n",
        "The **Chem.MolFromSmiles** function takes a **SMILES** string as input and returns an RDKit **Mol object**.\n",
        "The **Mol object** is the internal representation of a molecule used by RDKit. It is created from inputs like SMILES strings or molecular files and stores detailed information about the molecule’s atoms, bonds, structure, and properties.\n",
        "Once you have a **Mol object**, you can extract various basic pieces of information about the molecule, such as its molecular weight, number of atoms, and connectivity. You can use these information to analyze, visualize, calculate different molecular descriptors, and more."
      ],
      "metadata": {
        "id": "By1LX4_uLeVR"
      }
    },
    {
      "cell_type": "code",
      "source": [
        "# Convert the SMILES string to a mol object\n",
        "mol = Chem.MolFromSmiles(smiles)"
      ],
      "metadata": {
        "id": "cJ96J4Qd5fCX"
      },
      "execution_count": null,
      "outputs": []
    },
    {
      "cell_type": "code",
      "source": [
        "# Visualize the molecule\n",
        "mol"
      ],
      "metadata": {
        "id": "Vye6tHC65e80",
        "colab": {
          "base_uri": "https://localhost:8080/",
          "height": 167
        },
        "outputId": "dd020b1a-26ab-4403-e6ad-04e542678cca"
      },
      "execution_count": null,
      "outputs": [
        {
          "output_type": "execute_result",
          "data": {
            "text/plain": [
              "<rdkit.Chem.rdchem.Mol at 0x7b7efa554120>"
            ],
            "image/png": "[encoded data removed]"
          },
          "metadata": {},
          "execution_count": 6
        }
      ]
    },
    {
      "cell_type": "markdown",
      "source": [
        "We can get a list of all the attributes and methods available for the mol. This includes both internal Python methods and **useful RDKit functions** (**like GetAtoms(), GetNumAtoms(), and HasSubstructMatch()**) that let you examine or manipulate the molecule. It's a helpful way to explore what actions the molecule object can perform or what information it contains."
      ],
      "metadata": {
        "id": "dvJ9BXP3bfl5"
      }
    },
    {
      "cell_type": "code",
      "source": [
        "dir(mol)"
      ],
      "metadata": {
        "id": "dJjr2TD4wSZ8"
      },
      "execution_count": null,
      "outputs": []
    },
    {
      "cell_type": "markdown",
      "source": [
        "###**Converting and Visualizing Multiple Molecules**\n",
        "You can turn a list of SMILES into molecule objects (mol) and display them:"
      ],
      "metadata": {
        "id": "VTN0GbQft3dP"
      }
    },
    {
      "cell_type": "code",
      "source": [
        "# Example list of SMILES strings\n",
        "smiles_list = [\"CCO\", \"CC(=O)O\", \"c1ccccc1\"]  # Ethanol, Acetic acid, Benzene\n",
        "\n",
        "# Convert and display each molecule\n",
        "for s in smiles_list:\n",
        "    mol = Chem.MolFromSmiles(s)\n",
        "    display(mol)\n",
        "\n"
      ],
      "metadata": {
        "colab": {
          "base_uri": "https://localhost:8080/",
          "height": 467
        },
        "id": "u-yWdSzIt5hE",
        "outputId": "c7267a4f-bf5f-4343-b62f-ac5fcb013231"
      },
      "execution_count": null,
      "outputs": [
        {
          "output_type": "display_data",
          "data": {
            "text/plain": [
              "<rdkit.Chem.rdchem.Mol at 0x7b7ef9314ba0>"
            ],
            "image/png": "[encoded data removed]"
          },
          "metadata": {}
        },
        {
          "output_type": "display_data",
          "data": {
            "text/plain": [
              "<rdkit.Chem.rdchem.Mol at 0x7b7ef9314c80>"
            ],
            "image/png": "[encoded data removed]"
          },
          "metadata": {}
        },
        {
          "output_type": "display_data",
          "data": {
            "text/plain": [
              "<rdkit.Chem.rdchem.Mol at 0x7b7ef9314c10>"
            ],
            "image/png": "[encoded data removed]"
          },
          "metadata": {}
        }
      ]
    },
    {
      "cell_type": "markdown",
      "source": [
        "### **Extracting some  useful molecular properties from a Mol object.**\n",
        "For example, we can get the number of heavy atoms (non-hydrogen atoms) using **mol.GetNumHeavyAtoms()**, and the total number of atoms (including hydrogens) using **mol.GetNumAtoms()**. These basic properties are helpful for analyzing molecule size and complexity.\n",
        "**Example:**"
      ],
      "metadata": {
        "id": "InJTGY7DlVue"
      }
    },
    {
      "cell_type": "code",
      "source": [
        "# Create a Mol object from a SMILES string\n",
        "smiles = 'CCO'  # Example: ethanol\n",
        "mol = Chem.MolFromSmiles(smiles)\n",
        "mol"
      ],
      "metadata": {
        "colab": {
          "base_uri": "https://localhost:8080/",
          "height": 167
        },
        "id": "EjiTvpgz-Ipi",
        "outputId": "5dd227c3-c241-4a80-c75c-342fc538a9de"
      },
      "execution_count": null,
      "outputs": [
        {
          "output_type": "execute_result",
          "data": {
            "text/plain": [
              "<rdkit.Chem.rdchem.Mol at 0x7b7ef2c230d0>"
            ],
            "image/png": "[encoded data removed]"
          },
          "metadata": {},
          "execution_count": 26
        }
      ]
    },
    {
      "cell_type": "code",
      "source": [
        "# Get the number of heavy atoms(non hydrogen atoms) in the molecule\n",
        "heavy_atom_count = mol.GetNumHeavyAtoms()\n",
        "heavy_atom_count"
      ],
      "metadata": {
        "colab": {
          "base_uri": "https://localhost:8080/"
        },
        "id": "qLiGYUm-Yy73",
        "outputId": "7ee90e95-9e2c-4ae8-8a37-b90c14a9440b"
      },
      "execution_count": null,
      "outputs": [
        {
          "output_type": "execute_result",
          "data": {
            "text/plain": [
              "3"
            ]
          },
          "metadata": {},
          "execution_count": 27
        }
      ]
    },
    {
      "cell_type": "code",
      "source": [
        "# Get the number of all atoms\n",
        "all_atom_count = mol.GetNumAtoms(onlyExplicit=False)\n",
        "print(f\"The number of all atoms in the molecule is: {all_atom_count}\")"
      ],
      "metadata": {
        "colab": {
          "base_uri": "https://localhost:8080/"
        },
        "id": "39Ve6ESP-R1z",
        "outputId": "a5594f7a-1764-422e-9821-66248a6aea81"
      },
      "execution_count": null,
      "outputs": [
        {
          "output_type": "stream",
          "name": "stdout",
          "text": [
            "The number of all atoms in the molecule is: 9\n"
          ]
        }
      ]
    },
    {
      "cell_type": "code",
      "source": [
        "# Get the number of bonds(hydrogens are not included):\n",
        "non_h_bonded = mol.GetNumBonds()\n",
        "print(f\"The number of non-H bonds in the molecule is: {non_h_bonded}\")"
      ],
      "metadata": {
        "colab": {
          "base_uri": "https://localhost:8080/"
        },
        "id": "AbFBKjE0_L4j",
        "outputId": "9e060c1d-dcc8-4d63-e686-1420bcdac15f"
      },
      "execution_count": null,
      "outputs": [
        {
          "output_type": "stream",
          "name": "stdout",
          "text": [
            "The number of non-H bonds in the molecule is: 2\n"
          ]
        }
      ]
    },
    {
      "cell_type": "code",
      "source": [
        "# Get the number of all bonds\n",
        "all_bonds = mol.GetNumBonds(onlyHeavy=False)\n",
        "print(f\"The number of all bonds in the molecule is: {all_bonds}\")"
      ],
      "metadata": {
        "colab": {
          "base_uri": "https://localhost:8080/"
        },
        "id": "sdXP8PfMZnjZ",
        "outputId": "25ccf7ec-d528-4cfd-f5dd-23dc25f6ccf6"
      },
      "execution_count": null,
      "outputs": [
        {
          "output_type": "stream",
          "name": "stdout",
          "text": [
            "The number of all bonds in the molecule is: 8\n"
          ]
        }
      ]
    }
  ]
}
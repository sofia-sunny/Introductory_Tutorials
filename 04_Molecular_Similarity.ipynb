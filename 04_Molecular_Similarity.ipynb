{
  "cells": [
    {
      "cell_type": "markdown",
      "metadata": {
        "id": "view-in-github",
        "colab_type": "text"
      },
      "source": [
        "<a href=\"https://colab.research.google.com/github/sofia-sunny/Introductory_Tutorials/blob/main/04_Molecular_Similarity.ipynb\" target=\"_parent\"><img src=\"https://colab.research.google.com/assets/colab-badge.svg\" alt=\"Open In Colab\"/></a>"
      ]
    },
    {
      "cell_type": "markdown",
      "metadata": {
        "id": "Qn3VDDhAYwgC"
      },
      "source": [
        "## **Molecular Similarity Search**"
      ]
    },
    {
      "cell_type": "markdown",
      "source": [
        "**Molecular similarity** is based on the principle that **molecules with similar chemical structures tend to exhibit similar chemical and biological behaviors**. This idea is widely used in drug discovery and cheminformatics, where researchers assume that if two molecules look alike at the molecular level, they are also likely to act alike—for example, by binding to the same target or producing similar biological effects.\n",
        "\n",
        "A **similarity search** is a method used to find molecules that resemble a specific compound, known as the **query compound**. The goal is to scan a database and identify other compounds that share key structural features with the query.\n",
        "The similarity between molecules is measured using mathematical metrics, such as the **Tanimoto coefficient**, which compares **molecular fingerprints** (numerical representations of chemical features). The higher the similarity score, the more structurally alike two molecules are considered to be.\n",
        "\n",
        "The Similarity Search helps prioritize candidates for further testing or development based on their resemblance to known active compounds."
      ],
      "metadata": {
        "id": "WgV-W75kP04Z"
      }
    },
    {
      "cell_type": "code",
      "execution_count": 1,
      "metadata": {
        "id": "x1uuQ2OGd1is",
        "colab": {
          "base_uri": "https://localhost:8080/"
        },
        "outputId": "eded001c-963f-4b50-d366-9e25c736a24e"
      },
      "outputs": [
        {
          "output_type": "stream",
          "name": "stdout",
          "text": [
            "Collecting rdkit\n",
            "  Downloading rdkit-2025.3.3-cp311-cp311-manylinux_2_28_x86_64.whl.metadata (4.0 kB)\n",
            "Requirement already satisfied: numpy in /usr/local/lib/python3.11/dist-packages (from rdkit) (2.0.2)\n",
            "Requirement already satisfied: Pillow in /usr/local/lib/python3.11/dist-packages (from rdkit) (11.2.1)\n",
            "Downloading rdkit-2025.3.3-cp311-cp311-manylinux_2_28_x86_64.whl (34.9 MB)\n",
            "\u001b[2K   \u001b[90m━━━━━━━━━━━━━━━━━━━━━━━━━━━━━━━━━━━━━━━━\u001b[0m \u001b[32m34.9/34.9 MB\u001b[0m \u001b[31m11.5 MB/s\u001b[0m eta \u001b[36m0:00:00\u001b[0m\n",
            "\u001b[?25hInstalling collected packages: rdkit\n",
            "Successfully installed rdkit-2025.3.3\n"
          ]
        }
      ],
      "source": [
        "!pip install rdkit"
      ]
    },
    {
      "cell_type": "markdown",
      "source": [
        "**A general way to find the similarity between two compunds is as follow:**\n",
        "\n",
        "* Convert SMILES to RDKit molecule objects\n",
        "\n",
        "\n",
        "* Generate Morgan fingerprints\n",
        "\n",
        "\n",
        "* Compute similarity\n",
        "\n",
        "The `rdFingerprintGenerator module` in RDKit provides tools to create different types of molecular fingerprints, such as **Morgan fingerprints**. These fingerprints numerically encode molecular structure.\n",
        "\n",
        "The `DataStructs module` contains functions for comparing molecular fingerprints. It provides tools for computing similarity between two fingerprints—commonly using the Tanimoto similarity\n"
      ],
      "metadata": {
        "id": "a2TOKAAcQ0Ld"
      }
    },
    {
      "cell_type": "code",
      "execution_count": 2,
      "metadata": {
        "id": "56NsUpytiWqM"
      },
      "outputs": [],
      "source": [
        "# Importing necessary libraries\n",
        "from rdkit import Chem\n",
        "from rdkit.Chem.rdFingerprintGenerator import GetMorganGenerator\n",
        "from rdkit.Chem import DataStructs"
      ]
    },
    {
      "cell_type": "markdown",
      "source": [
        "### **Example of steps for finding similarity betweeen two compounds**"
      ],
      "metadata": {
        "id": "uA2fexFjb9Up"
      }
    },
    {
      "cell_type": "code",
      "source": [
        "# SMILES strings for two molecules\n",
        "smiles_1 = \"CC(=O)O\"\n",
        "smiles_2 = \"CC(C)CCO\""
      ],
      "metadata": {
        "id": "9pCRtMpB3NB3"
      },
      "execution_count": 4,
      "outputs": []
    },
    {
      "cell_type": "code",
      "source": [
        "# Convert SMILES to RDKit molecule objects\n",
        "mol_1 = Chem.MolFromSmiles(smiles_1)\n",
        "mol_2 = Chem.MolFromSmiles(smiles_2)"
      ],
      "metadata": {
        "id": "TUaWITeL3M4e"
      },
      "execution_count": 9,
      "outputs": []
    },
    {
      "cell_type": "code",
      "source": [
        "display(mol_1)"
      ],
      "metadata": {
        "colab": {
          "base_uri": "https://localhost:8080/",
          "height": 167
        },
        "id": "qz9E7Cwao0qM",
        "outputId": "577b5e92-95e8-4e37-e1b0-6696dc6839ec"
      },
      "execution_count": 10,
      "outputs": [
        {
          "output_type": "display_data",
          "data": {
            "text/plain": [
              "<rdkit.Chem.rdchem.Mol at 0x7e9620da69d0>"
            ],
            "image/png": "[encoded data removed]"
          },
          "metadata": {}
        }
      ]
    },
    {
      "cell_type": "code",
      "source": [
        "display(mol_2)"
      ],
      "metadata": {
        "colab": {
          "base_uri": "https://localhost:8080/",
          "height": 167
        },
        "id": "8Hp-PY50o4-4",
        "outputId": "14d08a26-8843-40dc-aaa4-503aa00a54a0"
      },
      "execution_count": 11,
      "outputs": [
        {
          "output_type": "display_data",
          "data": {
            "text/plain": [
              "<rdkit.Chem.rdchem.Mol at 0x7e9620da6c70>"
            ],
            "image/png": "[encoded data removed]"
          },
          "metadata": {}
        }
      ]
    },
    {
      "cell_type": "markdown",
      "source": [
        "### **Create a Morgan Generaor**\n",
        "`GetMorganGenerator`allows you to generate a **Morgan fingerprint generator** with specific parameters. This generator can then be used to create **Morgan fingerprints** for multiple molecules without needing to specify the parameters each time"
      ],
      "metadata": {
        "id": "5s6bG0wkDiYL"
      }
    },
    {
      "cell_type": "code",
      "source": [
        "# Create a Morgan Generator\n",
        "morgan_generator = GetMorganGenerator(radius=2, fpSize=2048)"
      ],
      "metadata": {
        "id": "tIuxrEFRDi29"
      },
      "execution_count": 15,
      "outputs": []
    },
    {
      "cell_type": "markdown",
      "source": [
        "### **Create molecular fingerprints!**\n",
        "### After creating **morgan_generator**, you can use it to generate **Morgan fingerprints** for various molecules.\n",
        "\n",
        "**Morgan fingerprints** is a way to encode the structural information of a molecule into a fixed-size binary or integer vector. These fingerprints are useful for tasks like similarity searches, clustering, and as input features for machine learning model."
      ],
      "metadata": {
        "id": "N4k33QugIe7c"
      }
    },
    {
      "cell_type": "code",
      "source": [
        "# Generate Morgan fingerprints\n",
        "fp1 = morgan_generator.GetFingerprint(mol_1)\n",
        "fp2 = morgan_generator.GetFingerprint(mol_2)"
      ],
      "metadata": {
        "id": "wejgIu2L3MwA"
      },
      "execution_count": 16,
      "outputs": []
    },
    {
      "cell_type": "markdown",
      "source": [
        "### **Tanimoto similarity**\n",
        "After generating molecular fingerprints using the Morgan generator, you can compute the **Tanimoto similarity** between pairs of these fingerprints. The Tanimoto similarity is a common metric used in cheminformatics to quantify the similarity between two molecular fingerprints.\n",
        "\n",
        "If the Tanimoto similarity is **close to 1**, it means that the molecules have very similar structural features.\n",
        "\n",
        "If the Tanimoto similarity is **close to 0**, it means that the molecules have very different structural features"
      ],
      "metadata": {
        "id": "k5caHWgYenyu"
      }
    },
    {
      "cell_type": "code",
      "source": [
        "# Compute Tanimoto similarity\n",
        "similarity_score = DataStructs.TanimotoSimilarity(fp1, fp2)"
      ],
      "metadata": {
        "id": "GTUW1mpp3MlG"
      },
      "execution_count": 17,
      "outputs": []
    },
    {
      "cell_type": "code",
      "source": [
        "# Print the similarity\n",
        "print(f\"Tanimoto similarity: {similarity_score:.2f}\")"
      ],
      "metadata": {
        "colab": {
          "base_uri": "https://localhost:8080/"
        },
        "id": "Dzne3Eq03Wcx",
        "outputId": "144ab7e2-856f-4202-f589-72eac6c67d25"
      },
      "execution_count": 18,
      "outputs": [
        {
          "output_type": "stream",
          "name": "stdout",
          "text": [
            "Tanimoto similarity: 0.12\n"
          ]
        }
      ]
    },
    {
      "cell_type": "markdown",
      "source": [
        "A **score of 0.12** is closer to 0, which suggests that the two molecules share very few common substructures or features. In other words, their chemical structures are quite different from each other"
      ],
      "metadata": {
        "id": "2-4I9WAZfj8H"
      }
    },
    {
      "cell_type": "markdown",
      "metadata": {
        "id": "Q_4bs1Z3lrUi"
      },
      "source": [
        "### **Now let's find the similarity between aspirin and ibuprofen!**"
      ]
    },
    {
      "cell_type": "code",
      "source": [
        "# SMILES strings for Aspirin and Ibuprofen\n",
        "aspirin_smiles = \"CC(=O)OC1=CC=CC=C1C(=O)O\"\n",
        "ibuprofen_smiles = \"CC(C)CC1=CC=C(C=C1)C(C)C(=O)O\""
      ],
      "metadata": {
        "id": "AlYfG-zf3nfu"
      },
      "execution_count": 19,
      "outputs": []
    },
    {
      "cell_type": "code",
      "source": [
        "# Convert SMILES to RDKit molecule objects\n",
        "aspirin_mol = Chem.MolFromSmiles(aspirin_smiles)\n",
        "ibuprofen_mol = Chem.MolFromSmiles(ibuprofen_smiles)"
      ],
      "metadata": {
        "id": "BeAVO2r43nb6"
      },
      "execution_count": 20,
      "outputs": []
    },
    {
      "cell_type": "code",
      "source": [
        "# Generate Morgan fingerprints (ECFP4)\n",
        "aspirin_fp = morgan_generator.GetFingerprint(aspirin_mol)\n",
        "ibuprofen_fp = morgan_generator.GetFingerprint(ibuprofen_mol)"
      ],
      "metadata": {
        "id": "RRXx9wzr3nXT"
      },
      "execution_count": 21,
      "outputs": []
    },
    {
      "cell_type": "code",
      "source": [
        "# Compute Tanimoto similarity\n",
        "similarity = DataStructs.TanimotoSimilarity(aspirin_fp, ibuprofen_fp)"
      ],
      "metadata": {
        "id": "XEz0xRTZ3nRu"
      },
      "execution_count": 22,
      "outputs": []
    },
    {
      "cell_type": "code",
      "source": [
        "# Print the similarity\n",
        "print(f\"Tanimoto similarity between Aspirin and Ibuprofen: {similarity:.2f}\")"
      ],
      "metadata": {
        "colab": {
          "base_uri": "https://localhost:8080/"
        },
        "id": "IyZ81O153nJh",
        "outputId": "4be8bcc8-a6ea-4978-95ce-62aa58e7f668"
      },
      "execution_count": 23,
      "outputs": [
        {
          "output_type": "stream",
          "name": "stdout",
          "text": [
            "Tanimoto similarity between Aspirin and Ibuprofen: 0.20\n"
          ]
        }
      ]
    },
    {
      "cell_type": "code",
      "source": [
        "aspirin_mol"
      ],
      "metadata": {
        "colab": {
          "base_uri": "https://localhost:8080/",
          "height": 167
        },
        "id": "Mqi2rgSVf6e9",
        "outputId": "2cd259db-f030-4e2c-8738-8a150469ed9e"
      },
      "execution_count": 24,
      "outputs": [
        {
          "output_type": "execute_result",
          "data": {
            "text/plain": [
              "<rdkit.Chem.rdchem.Mol at 0x7e961bb42730>"
            ],
            "image/png": "[encoded data removed]"
          },
          "metadata": {},
          "execution_count": 24
        }
      ]
    },
    {
      "cell_type": "code",
      "source": [
        "ibuprofen_mol"
      ],
      "metadata": {
        "colab": {
          "base_uri": "https://localhost:8080/",
          "height": 167
        },
        "id": "IIJqin0mf616",
        "outputId": "0ab2295e-f3f1-4ab8-e8f9-afeeecd1ffcd"
      },
      "execution_count": 25,
      "outputs": [
        {
          "output_type": "execute_result",
          "data": {
            "text/plain": [
              "<rdkit.Chem.rdchem.Mol at 0x7e961bb5a2d0>"
            ],
            "image/png": "[encoded data removed]"
          },
          "metadata": {},
          "execution_count": 25
        }
      ]
    },
    {
      "cell_type": "markdown",
      "metadata": {
        "id": "op9qlofPenhZ"
      },
      "source": [
        "### **Now let's calculate the similarity score between Aspirin and several other compounds, and then display the results**"
      ]
    },
    {
      "cell_type": "code",
      "execution_count": null,
      "metadata": {
        "id": "D31VVy4Iepgk"
      },
      "outputs": [],
      "source": [
        "# Importing necessary libraries (if already not imported)\n",
        "import pandas as pd"
      ]
    },
    {
      "cell_type": "code",
      "source": [
        "# SMILES strings for Aspirin and a list of other compounds\n",
        "aspirin_smiles = \"CC(=O)OC1=CC=CC=C1C(=O)O\"\n",
        "other_drugs = {\n",
        "    \"Ibuprofen\": \"CC(C)CC1=CC=C(C=C1)C(C)C(=O)O\",\n",
        "    \"Caffeine\": \"CN1C=NC2=C1C(=O)N(C(=O)N2C)C\",\n",
        "    \"Naproxen\": \"CC1=CC=C(C=C1)C(C)C(=O)O\",\n",
        "    \"Acetaminophen\": \"CC(=O)NC1=CC=C(C=C1)O\"\n",
        "}"
      ],
      "metadata": {
        "id": "dqAWACVv4IOJ"
      },
      "execution_count": 29,
      "outputs": []
    },
    {
      "cell_type": "code",
      "source": [
        "# Convert SMILES to RDKit molecule objects and generate fingerprints for Aspirin\n",
        "aspirin_mol = Chem.MolFromSmiles(aspirin_smiles)\n",
        "aspirin_mol"
      ],
      "metadata": {
        "id": "lPb0_-QS4H7Y",
        "colab": {
          "base_uri": "https://localhost:8080/",
          "height": 167
        },
        "outputId": "df2fedc8-49a3-47eb-a4e7-163f80f5d9db"
      },
      "execution_count": 30,
      "outputs": [
        {
          "output_type": "execute_result",
          "data": {
            "text/plain": [
              "<rdkit.Chem.rdchem.Mol at 0x7e961bb5a6c0>"
            ],
            "image/png": "[encoded data removed]"
          },
          "metadata": {},
          "execution_count": 30
        }
      ]
    },
    {
      "cell_type": "code",
      "source": [
        "aspirin_fp = morgan_generator.GetFingerprint(aspirin_mol)"
      ],
      "metadata": {
        "id": "rR4U5kkFIBfV"
      },
      "execution_count": 31,
      "outputs": []
    },
    {
      "cell_type": "code",
      "source": [
        "# Initiate the list for similaities\n",
        "similarities = []\n",
        "\n",
        "# Compute Tanimoto similarity for each drug\n",
        "for drug, smiles in other_drugs.items():\n",
        "    drug_mol = Chem.MolFromSmiles(smiles)\n",
        "    display(drug_mol)\n",
        "    print(drug)\n",
        "    drug_fp = morgan_generator.GetFingerprint(drug_mol)\n",
        "    similarity = DataStructs.TanimotoSimilarity(aspirin_fp, drug_fp)\n",
        "    print(f\"Tanimoto similarity between Aspirin and {drug}: {similarity:.2f}\")\n",
        "    similarities.append((drug, similarity))"
      ],
      "metadata": {
        "id": "UQDg2tmW4HeT",
        "colab": {
          "base_uri": "https://localhost:8080/",
          "height": 763
        },
        "outputId": "00d69223-262d-4112-c9e7-79ae5dcdd3c7"
      },
      "execution_count": 32,
      "outputs": [
        {
          "output_type": "display_data",
          "data": {
            "text/plain": [
              "<rdkit.Chem.rdchem.Mol at 0x7e961bb5a3b0>"
            ],
            "image/png": "[encoded data removed]"
          },
          "metadata": {}
        },
        {
          "output_type": "stream",
          "name": "stdout",
          "text": [
            "Ibuprofen\n",
            "Tanimoto similarity between Aspirin and Ibuprofen: 0.20\n"
          ]
        },
        {
          "output_type": "display_data",
          "data": {
            "text/plain": [
              "<rdkit.Chem.rdchem.Mol at 0x7e961bb5aea0>"
            ],
            "image/png": "[encoded data removed]"
          },
          "metadata": {}
        },
        {
          "output_type": "stream",
          "name": "stdout",
          "text": [
            "Caffeine\n",
            "Tanimoto similarity between Aspirin and Caffeine: 0.09\n"
          ]
        },
        {
          "output_type": "display_data",
          "data": {
            "text/plain": [
              "<rdkit.Chem.rdchem.Mol at 0x7e961bb5b610>"
            ],
            "image/png": "[encoded data removed]"
          },
          "metadata": {}
        },
        {
          "output_type": "stream",
          "name": "stdout",
          "text": [
            "Naproxen\n",
            "Tanimoto similarity between Aspirin and Naproxen: 0.22\n"
          ]
        },
        {
          "output_type": "display_data",
          "data": {
            "text/plain": [
              "<rdkit.Chem.rdchem.Mol at 0x7e961bb5aea0>"
            ],
            "image/png": "[encoded data removed]"
          },
          "metadata": {}
        },
        {
          "output_type": "stream",
          "name": "stdout",
          "text": [
            "Acetaminophen\n",
            "Tanimoto similarity between Aspirin and Acetaminophen: 0.22\n"
          ]
        }
      ]
    },
    {
      "cell_type": "markdown",
      "source": [
        "### Similarity score between Toluene and some other aromatic compounds"
      ],
      "metadata": {
        "id": "JXMfCCrNFuKe"
      }
    },
    {
      "cell_type": "code",
      "execution_count": 33,
      "metadata": {
        "id": "A4LVpRhhNp5E"
      },
      "outputs": [],
      "source": [
        "# List of aromatic compounds SMILES (excluding Toluene itself)\n",
        "smiles_list = [\n",
        "    'c1ccccc1',   # Benzene\n",
        "    'CC1=CC=CC=N1',  # Methylpyridine\n",
        "    'c1ccc2ccccc2c1',  # Naphthalene\n",
        "    'c1ccccc1O',  # Phenol\n",
        "    'CC1=CC=CC=C1C'  # O-Xylene\n",
        "]"
      ]
    },
    {
      "cell_type": "code",
      "source": [
        "# Toluene SMILES\n",
        "toluene_smiles = 'Cc1ccccc1'\n",
        "\n",
        "# Convert SMILES to molecule objects\n",
        "toluene_mol = Chem.MolFromSmiles(toluene_smiles)\n",
        "toluene_fp = morgan_generator.GetFingerprint(toluene_mol)"
      ],
      "metadata": {
        "id": "2cuO1M6FnAue"
      },
      "execution_count": 34,
      "outputs": []
    },
    {
      "cell_type": "code",
      "source": [
        "molecules_list = []\n",
        "# Convert SMILES to molecule objects using a for loop\n",
        "for smiles in smiles_list:\n",
        "    mol = Chem.MolFromSmiles(smiles)\n",
        "    molecules_list.append(mol)\n",
        "# molecules_list is a list of molecule objects for aromatic compounds"
      ],
      "metadata": {
        "id": "hLbBoUCDDwsc"
      },
      "execution_count": 36,
      "outputs": []
    },
    {
      "cell_type": "code",
      "source": [
        "# Generate Morgan fingerprints\n",
        "fingerprints_list = []\n",
        "for mol in molecules_list:\n",
        "    fp = morgan_generator.GetFingerprint(mol)\n",
        "    fingerprints_list.append(fp)"
      ],
      "metadata": {
        "id": "bDFdYMphDtHo"
      },
      "execution_count": 37,
      "outputs": []
    },
    {
      "cell_type": "code",
      "source": [
        "# Calculate similarity (Tanimoto similarity) to Toluene\n",
        "similarities_list = []\n",
        "for fp in fingerprints_list:\n",
        "    similarity = DataStructs.TanimotoSimilarity(toluene_fp, fp)\n",
        "\n",
        "\n",
        "    similarities_list.append(similarity)"
      ],
      "metadata": {
        "id": "g4-IjrnhC4M6"
      },
      "execution_count": null,
      "outputs": []
    },
    {
      "cell_type": "code",
      "source": [
        "similarities"
      ],
      "metadata": {
        "colab": {
          "base_uri": "https://localhost:8080/"
        },
        "id": "Wa5UBse2-cWv",
        "outputId": "a0947964-83d4-4cac-ff63-f0608bceecbe"
      },
      "execution_count": null,
      "outputs": [
        {
          "output_type": "execute_result",
          "data": {
            "text/plain": [
              "[0.2727272727272727, 0.35, 0.35714285714285715, 0.375, 0.5]"
            ]
          },
          "metadata": {},
          "execution_count": 10
        }
      ]
    },
    {
      "cell_type": "markdown",
      "source": [
        "### **Another Example:**\n",
        "Finding the Similarity between Toluene and some other aromatic compounds"
      ],
      "metadata": {
        "id": "OpDC4eh3Iq93"
      }
    },
    {
      "cell_type": "code",
      "source": [
        "# SMILES for Toluene\n",
        "toluene_smiles = 'Cc1ccccc1'\n",
        "toluene_mol = Chem.MolFromSmiles(toluene_smiles)"
      ],
      "metadata": {
        "id": "CxDQOs8jI5wJ"
      },
      "execution_count": null,
      "outputs": []
    },
    {
      "cell_type": "code",
      "source": [
        "# Generate fingerprint for Toluene\n",
        "morgan_generator = Chem.rdFingerprintGenerator.GetMorganGenerator(radius=2, fpSize=2048)\n",
        "toluene_fp = morgan_generator.GetFingerprint(toluene_mol)"
      ],
      "metadata": {
        "id": "C1SKeDarI8PN"
      },
      "execution_count": 40,
      "outputs": []
    },
    {
      "cell_type": "code",
      "source": [
        "# A dictionary of some aromatic compounds\n",
        "other_aromatics = {\n",
        "    'Benzene': 'c1ccccc1',\n",
        "    'Methylpyridine': 'CC1=CC=CC=N1',\n",
        "    'Naphthalene': 'c1ccc2ccccc2c1',\n",
        "    'Phenol': 'c1ccccc1O',\n",
        "    'O-Xylene': 'CC1=CC=CC=C1C'\n",
        "    }"
      ],
      "metadata": {
        "id": "l3Q3YSUTJEO5"
      },
      "execution_count": 42,
      "outputs": []
    },
    {
      "cell_type": "code",
      "source": [
        "# Compute similarity and display\n",
        "similarities = []\n",
        "\n",
        "for compound, smiles in other_aromatics.items():\n",
        "    mol = Chem.MolFromSmiles(smiles)\n",
        "    display(mol)\n",
        "    print(compound)\n",
        "    fp = morgan_generator.GetFingerprint(mol)\n",
        "    similarity = DataStructs.TanimotoSimilarity(toluene_fp, fp)\n",
        "    print(f\"Tanimoto similarity between Toluene and {compound}: {similarity:.2f}\")\n",
        "    similarities.append((compound, similarity))\n"
      ],
      "metadata": {
        "colab": {
          "base_uri": "https://localhost:8080/",
          "height": 949
        },
        "id": "vP3CWp3uHyw_",
        "outputId": "de45f9f1-e359-4a87-e398-dfae9c3107dc"
      },
      "execution_count": 43,
      "outputs": [
        {
          "output_type": "display_data",
          "data": {
            "text/plain": [
              "<rdkit.Chem.rdchem.Mol at 0x7e961bbb4eb0>"
            ],
            "image/png": "[encoded data removed]"
          },
          "metadata": {}
        },
        {
          "output_type": "stream",
          "name": "stdout",
          "text": [
            "Benzene\n",
            "Tanimoto similarity between Toluene and Benzene: 0.27\n"
          ]
        },
        {
          "output_type": "display_data",
          "data": {
            "text/plain": [
              "<rdkit.Chem.rdchem.Mol at 0x7e961bbb5380>"
            ],
            "image/png": "[encoded data removed]"
          },
          "metadata": {}
        },
        {
          "output_type": "stream",
          "name": "stdout",
          "text": [
            "Methylpyridine\n",
            "Tanimoto similarity between Toluene and Methylpyridine: 0.35\n"
          ]
        },
        {
          "output_type": "display_data",
          "data": {
            "text/plain": [
              "<rdkit.Chem.rdchem.Mol at 0x7e961bbb54d0>"
            ],
            "image/png": "[encoded data removed]"
          },
          "metadata": {}
        },
        {
          "output_type": "stream",
          "name": "stdout",
          "text": [
            "Naphthalene\n",
            "Tanimoto similarity between Toluene and Naphthalene: 0.36\n"
          ]
        },
        {
          "output_type": "display_data",
          "data": {
            "text/plain": [
              "<rdkit.Chem.rdchem.Mol at 0x7e961bbb55b0>"
            ],
            "image/png": "[encoded data removed]"
          },
          "metadata": {}
        },
        {
          "output_type": "stream",
          "name": "stdout",
          "text": [
            "Phenol\n",
            "Tanimoto similarity between Toluene and Phenol: 0.38\n"
          ]
        },
        {
          "output_type": "display_data",
          "data": {
            "text/plain": [
              "<rdkit.Chem.rdchem.Mol at 0x7e961bbb5620>"
            ],
            "image/png": "[encoded data removed]"
          },
          "metadata": {}
        },
        {
          "output_type": "stream",
          "name": "stdout",
          "text": [
            "O-Xylene\n",
            "Tanimoto similarity between Toluene and O-Xylene: 0.50\n"
          ]
        }
      ]
    },
    {
      "cell_type": "markdown",
      "source": [
        "So among these aromatic compounds, o-Xylene is the most similar to Toluene."
      ],
      "metadata": {
        "id": "yenc68nMJZZz"
      }
    }
  ],
  "metadata": {
    "colab": {
      "provenance": [],
      "include_colab_link": true
    },
    "kernelspec": {
      "display_name": "Python 3",
      "name": "python3"
    },
    "language_info": {
      "name": "python"
    }
  },
  "nbformat": 4,
  "nbformat_minor": 0
}